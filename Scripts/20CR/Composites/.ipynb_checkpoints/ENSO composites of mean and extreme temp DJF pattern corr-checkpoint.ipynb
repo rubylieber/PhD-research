{
 "cells": [
  {
   "cell_type": "markdown",
   "id": "9d5659f6",
   "metadata": {},
   "source": [
    "### ENSO composites for 20CR extremes"
   ]
  },
  {
   "cell_type": "code",
   "execution_count": 1,
   "id": "0ece150a",
   "metadata": {},
   "outputs": [],
   "source": [
    "import xarray as xr\n",
    "import numpy as np\n",
    "import matplotlib.pyplot as plt\n",
    "import sys\n",
    "sys.path.append('/home/563/rl5183/PhD-research/Functions')\n",
    "import functions as func\n",
    "from importlib import reload\n",
    "import cartopy.crs as ccrs\n",
    "from cartopy.mpl.gridliner import LONGITUDE_FORMATTER, LATITUDE_FORMATTER\n",
    "import xesmf\n",
    "import cf_xarray\n",
    "from scipy.stats import pearsonr"
   ]
  },
  {
   "cell_type": "code",
   "execution_count": 2,
   "id": "f36ba516",
   "metadata": {},
   "outputs": [],
   "source": [
    "# Open HadISST for caculating Nino3.4 index \n",
    "hadisst_ds = xr.open_dataset('/g/data/eg3/jxb548/OBSDATA/hadisstv1.1870_2017.nc')\n",
    "sst_data = hadisst_ds.sst"
   ]
  },
  {
   "cell_type": "code",
   "execution_count": 3,
   "id": "6d2ce467",
   "metadata": {},
   "outputs": [],
   "source": [
    "# Detrend HadISST data\n",
    "sst_data_detrend = np.apply_along_axis(func.detrend_2step, 0, sst_data)\n",
    "sst_detrended = xr.DataArray(sst_data_detrend, coords=sst_data.coords, attrs=sst_data.attrs)"
   ]
  },
  {
   "cell_type": "code",
   "execution_count": 4,
   "id": "640dc4f8",
   "metadata": {},
   "outputs": [],
   "source": [
    "# Nino3.4 index with HadiSSTv1\n",
    "nino34_region = sst_detrended.sel(latitude=slice(5,-5), longitude=slice(-170,-120))\n",
    "climatology = nino34_region.sel(time=slice('1950-01','1979-12')).groupby('time.month').mean()\n",
    "monthly_anomalies = (nino34_region.groupby('time.month')-climatology).mean(dim=['latitude','longitude'])\n",
    "monthly_anomalies_rolling = monthly_anomalies.rolling(time=5).mean()\n",
    "sst_std = nino34_region.sel(time=slice('1950-01','1979-12')).std()\n",
    "nino34_index = monthly_anomalies_rolling.sel(time=slice('1901-6', '2015-5'))/sst_std"
   ]
  },
  {
   "cell_type": "code",
   "execution_count": 5,
   "id": "d1095977",
   "metadata": {},
   "outputs": [],
   "source": [
    "# Calculate ENSO years with HadISST\n",
    "el_nino_years, la_nina_years = func.find_event_years(nino34_index, 0.4, 6)\n",
    "#offset years for djf and mam\n",
    "el_nino_years_offset = el_nino_years +1\n",
    "la_nina_years_offset = la_nina_years +1"
   ]
  },
  {
   "cell_type": "markdown",
   "id": "e4526e61",
   "metadata": {},
   "source": [
    "### Mean temperature composites "
   ]
  },
  {
   "cell_type": "code",
   "execution_count": 6,
   "id": "0a3a96de",
   "metadata": {},
   "outputs": [],
   "source": [
    "# Open detrended mean temp anomalies from 20CR \n",
    "tmp = xr.open_dataarray('/g/data/w40/rl5183/progress_files/anom.nc', chunks={'member':1}).sel(time=slice('1901-6', '2015-5'))\n",
    "# Add season year axis \n",
    "func.seasonyear(tmp)\n",
    "# Calculate seasonal means \n",
    "seasonal_tmp = tmp.groupby('seasonyear').apply(func.seasonal_mean)"
   ]
  },
  {
   "cell_type": "code",
   "execution_count": 7,
   "id": "15d01a17",
   "metadata": {
    "scrolled": false
   },
   "outputs": [],
   "source": [
    "#select out each season\n",
    "tmp_jja = seasonal_tmp.sel(season='JJA')\n",
    "tmp_son = seasonal_tmp.sel(season='SON')\n",
    "tmp_djf = seasonal_tmp.sel(season='DJF')\n",
    "tmp_mam = seasonal_tmp.sel(season='MAM')\n",
    "#select out el nino years and minus mean (offset for DJF and MAM)\n",
    "tmp_jja_el_nino = tmp_jja.sel(seasonyear=el_nino_years) - tmp_jja.mean(dim='seasonyear')\n",
    "tmp_son_el_nino = tmp_son.sel(seasonyear=el_nino_years) - tmp_son.mean(dim='seasonyear')\n",
    "tmp_djf_el_nino = tmp_djf.sel(seasonyear=el_nino_years_offset) - tmp_djf.mean(dim='seasonyear')\n",
    "tmp_mam_el_nino = tmp_mam.sel(seasonyear=el_nino_years_offset) - tmp_mam.mean(dim='seasonyear')\n",
    "#select out la nina years\n",
    "tmp_jja_la_nina = tmp_jja.sel(seasonyear=la_nina_years) - tmp_jja.mean(dim='seasonyear')\n",
    "tmp_son_la_nina = tmp_son.sel(seasonyear=la_nina_years) - tmp_son.mean(dim='seasonyear')\n",
    "tmp_djf_la_nina = tmp_djf.sel(seasonyear=la_nina_years_offset) - tmp_djf.mean(dim='seasonyear')\n",
    "tmp_mam_la_nina = tmp_mam.sel(seasonyear=la_nina_years_offset) - tmp_mam.mean(dim='seasonyear')"
   ]
  },
  {
   "cell_type": "markdown",
   "id": "85eeb873",
   "metadata": {},
   "source": [
    "### TXx composites"
   ]
  },
  {
   "cell_type": "code",
   "execution_count": 8,
   "id": "1bc75c8c",
   "metadata": {},
   "outputs": [],
   "source": [
    "TXx = xr.open_dataarray('/g/data/w40/rl5183/progress_files/TXx_detrended.nc', chunks={'member':1}).sel(time=slice('1901-6', '2015-5'))\n",
    "# Add season year axis \n",
    "func.seasonyear(TXx)\n",
    "# Calculate seasonal means \n",
    "seasonal_TXx = TXx.groupby('seasonyear').apply(func.seasonal_max)"
   ]
  },
  {
   "cell_type": "code",
   "execution_count": 9,
   "id": "cdde77b8",
   "metadata": {},
   "outputs": [],
   "source": [
    "#select out each season\n",
    "TXx_jja = seasonal_TXx.sel(season='JJA')\n",
    "TXx_son = seasonal_TXx.sel(season='SON')\n",
    "TXx_djf = seasonal_TXx.sel(season='DJF')\n",
    "TXx_mam = seasonal_TXx.sel(season='MAM')\n",
    "#select out el nino years and minus mean (offset for DJF and MAM)\n",
    "TXx_jja_el_nino = TXx_jja.sel(seasonyear=el_nino_years) - TXx_jja.mean(dim='seasonyear')\n",
    "TXx_son_el_nino = TXx_son.sel(seasonyear=el_nino_years) - TXx_son.mean(dim='seasonyear')\n",
    "TXx_djf_el_nino = TXx_djf.sel(seasonyear=el_nino_years_offset) - TXx_djf.mean(dim='seasonyear')\n",
    "TXx_mam_el_nino = TXx_mam.sel(seasonyear=el_nino_years_offset) - TXx_mam.mean(dim='seasonyear')\n",
    "#select out la nina years\n",
    "TXx_jja_la_nina = TXx_jja.sel(seasonyear=la_nina_years) - TXx_jja.mean(dim='seasonyear')\n",
    "TXx_son_la_nina = TXx_son.sel(seasonyear=la_nina_years) - TXx_son.mean(dim='seasonyear')\n",
    "TXx_djf_la_nina = TXx_djf.sel(seasonyear=la_nina_years_offset) - TXx_djf.mean(dim='seasonyear')\n",
    "TXx_mam_la_nina = TXx_mam.sel(seasonyear=la_nina_years_offset) - TXx_mam.mean(dim='seasonyear')"
   ]
  },
  {
   "cell_type": "markdown",
   "id": "5db49ca8",
   "metadata": {},
   "source": [
    "### TNn composites "
   ]
  },
  {
   "cell_type": "code",
   "execution_count": 10,
   "id": "56f8de49",
   "metadata": {},
   "outputs": [],
   "source": [
    "TNn = xr.open_dataarray('/g/data/w40/rl5183/progress_files/TNn_detrended.nc', chunks={'member':1}).sel(time=slice('1901-6', '2015-5'))\n",
    "# Add season year axis \n",
    "func.seasonyear(TNn)\n",
    "# Calculate seasonal means \n",
    "seasonal_TNn = TNn.groupby('seasonyear').apply(func.seasonal_min)"
   ]
  },
  {
   "cell_type": "code",
   "execution_count": 11,
   "id": "3446be15",
   "metadata": {},
   "outputs": [],
   "source": [
    "#select out each season\n",
    "TNn_jja = seasonal_TNn.sel(season='JJA')\n",
    "TNn_son = seasonal_TNn.sel(season='SON')\n",
    "TNn_djf = seasonal_TNn.sel(season='DJF')\n",
    "TNn_mam = seasonal_TNn.sel(season='MAM')\n",
    "#select out el nino years and minus mean (offset for DJF and MAM)\n",
    "TNn_jja_el_nino = TNn_jja.sel(seasonyear=el_nino_years) - TNn_jja.mean(dim='seasonyear')\n",
    "TNn_son_el_nino = TNn_son.sel(seasonyear=el_nino_years) - TNn_son.mean(dim='seasonyear')\n",
    "TNn_djf_el_nino = TNn_djf.sel(seasonyear=el_nino_years_offset) - TNn_djf.mean(dim='seasonyear')\n",
    "TNn_mam_el_nino = TNn_mam.sel(seasonyear=el_nino_years_offset) - TNn_mam.mean(dim='seasonyear')\n",
    "#select out la nina years\n",
    "TNn_jja_la_nina = TNn_jja.sel(seasonyear=la_nina_years) - TNn_jja.mean(dim='seasonyear')\n",
    "TNn_son_la_nina = TNn_son.sel(seasonyear=la_nina_years) - TNn_son.mean(dim='seasonyear')\n",
    "TNn_djf_la_nina = TNn_djf.sel(seasonyear=la_nina_years_offset) - TNn_djf.mean(dim='seasonyear')\n",
    "TNn_mam_la_nina = TNn_mam.sel(seasonyear=la_nina_years_offset) - TNn_mam.mean(dim='seasonyear')"
   ]
  },
  {
   "cell_type": "markdown",
   "id": "bcfacfcc",
   "metadata": {},
   "source": [
    "### Rregrid tmp "
   ]
  },
  {
   "cell_type": "code",
   "execution_count": 12,
   "id": "a8f856dd",
   "metadata": {},
   "outputs": [],
   "source": [
    "ds_bnds = tmp.to_dataset().cf.add_bounds(['latitude','longitude'])\n",
    "sample_bnds = TXx.to_dataset().cf.add_bounds(['latitude','longitude'])"
   ]
  },
  {
   "cell_type": "code",
   "execution_count": 13,
   "id": "13735ba8",
   "metadata": {},
   "outputs": [],
   "source": [
    "regrid = xesmf.Regridder(ds_bnds, sample_bnds, method='conservative_normed')"
   ]
  },
  {
   "cell_type": "code",
   "execution_count": 14,
   "id": "d5876ed1",
   "metadata": {},
   "outputs": [
    {
     "name": "stderr",
     "output_type": "stream",
     "text": [
      "/g/data/hh5/public/apps/miniconda3/envs/analysis3-21.07/lib/python3.9/site-packages/dask/array/gufunc.py:458: PerformanceWarning: Increasing number of chunks by factor of 256\n",
      "  tmp = blockwise(\n",
      "/g/data/hh5/public/apps/miniconda3/envs/analysis3-21.07/lib/python3.9/site-packages/dask/array/gufunc.py:458: PerformanceWarning: Increasing number of chunks by factor of 256\n",
      "  tmp = blockwise(\n"
     ]
    }
   ],
   "source": [
    "tmp_djf_el_nino_rg = regrid(tmp_djf_el_nino)\n",
    "tmp_djf_la_nina_rg = regrid(tmp_djf_la_nina)"
   ]
  },
  {
   "cell_type": "markdown",
   "id": "731fd27a",
   "metadata": {},
   "source": [
    "### Pattern Corr "
   ]
  },
  {
   "cell_type": "code",
   "execution_count": 15,
   "id": "9ef74375",
   "metadata": {},
   "outputs": [],
   "source": [
    "tmp_2d_el_nino = tmp_djf_el_nino_rg.mean(dim=['member','time'])\n",
    "TXx_2d_el_nino = TXx_djf_el_nino.mean(dim=['member','time'])\n",
    "TNn_2d_el_nino = TNn_djf_el_nino.mean(dim=['member','time'])"
   ]
  },
  {
   "cell_type": "code",
   "execution_count": 16,
   "id": "344fb87c",
   "metadata": {},
   "outputs": [],
   "source": [
    "tmp_2d_la_nina = tmp_djf_la_nina_rg.mean(dim=['member','time'])\n",
    "TXx_2d_la_nina = TXx_djf_la_nina.mean(dim=['member','time'])\n",
    "TNn_2d_la_nina = TNn_djf_la_nina.mean(dim=['member','time'])"
   ]
  },
  {
   "cell_type": "code",
   "execution_count": 17,
   "id": "f6df7864",
   "metadata": {},
   "outputs": [],
   "source": [
    "tmp_1d_el_nino = tmp_2d_el_nino.values.flatten() \n",
    "TXx_1d_el_nino = TXx_2d_el_nino.values.flatten() \n",
    "TNn_1d_el_nino = TNn_2d_el_nino.values.flatten() "
   ]
  },
  {
   "cell_type": "code",
   "execution_count": 18,
   "id": "4434bdd9",
   "metadata": {},
   "outputs": [],
   "source": [
    "tmp_1d_la_nina = tmp_2d_la_nina.values.flatten() \n",
    "TXx_1d_la_nina = TXx_2d_la_nina.values.flatten() \n",
    "TNn_1d_la_nina = TNn_2d_la_nina.values.flatten() "
   ]
  },
  {
   "cell_type": "code",
   "execution_count": 19,
   "id": "b78a1224",
   "metadata": {},
   "outputs": [],
   "source": [
    "pc_tmp_TXx_el_nino = pearsonr(tmp_1d_el_nino, TXx_1d_el_nino)\n",
    "pc_tmp_TXx_la_nina = pearsonr(tmp_1d_la_nina, TXx_1d_la_nina)\n",
    "pc_tmp_TNn_el_nino = pearsonr(tmp_1d_el_nino, TNn_1d_el_nino)\n",
    "pc_tmp_TNn_la_nina = pearsonr(tmp_1d_la_nina, TNn_1d_la_nina)"
   ]
  },
  {
   "cell_type": "code",
   "execution_count": 20,
   "id": "f096ba18",
   "metadata": {},
   "outputs": [
    {
     "data": {
      "text/plain": [
       "(0.6208021420390764, 0.0)"
      ]
     },
     "execution_count": 20,
     "metadata": {},
     "output_type": "execute_result"
    }
   ],
   "source": [
    "pc_tmp_TXx_el_nino"
   ]
  },
  {
   "cell_type": "code",
   "execution_count": 21,
   "id": "8aa11fda",
   "metadata": {},
   "outputs": [
    {
     "data": {
      "text/plain": [
       "(0.653952185812828, 0.0)"
      ]
     },
     "execution_count": 21,
     "metadata": {},
     "output_type": "execute_result"
    }
   ],
   "source": [
    "pc_tmp_TXx_la_nina"
   ]
  },
  {
   "cell_type": "code",
   "execution_count": 22,
   "id": "38b6ed72",
   "metadata": {},
   "outputs": [
    {
     "data": {
      "text/plain": [
       "(0.7615047538736853, 0.0)"
      ]
     },
     "execution_count": 22,
     "metadata": {},
     "output_type": "execute_result"
    }
   ],
   "source": [
    "pc_tmp_TNn_el_nino"
   ]
  },
  {
   "cell_type": "code",
   "execution_count": 23,
   "id": "87a5ac41",
   "metadata": {},
   "outputs": [
    {
     "data": {
      "text/plain": [
       "(0.7062620665785342, 0.0)"
      ]
     },
     "execution_count": 23,
     "metadata": {},
     "output_type": "execute_result"
    }
   ],
   "source": [
    "pc_tmp_TNn_la_nina"
   ]
  },
  {
   "cell_type": "code",
   "execution_count": null,
   "id": "912eed91",
   "metadata": {},
   "outputs": [],
   "source": []
  }
 ],
 "metadata": {
  "kernelspec": {
   "display_name": "Python [conda env:analysis3-21.07]",
   "language": "python",
   "name": "conda-env-analysis3-21.07-py"
  },
  "language_info": {
   "codemirror_mode": {
    "name": "ipython",
    "version": 3
   },
   "file_extension": ".py",
   "mimetype": "text/x-python",
   "name": "python",
   "nbconvert_exporter": "python",
   "pygments_lexer": "ipython3",
   "version": "3.9.7"
  }
 },
 "nbformat": 4,
 "nbformat_minor": 5
}
