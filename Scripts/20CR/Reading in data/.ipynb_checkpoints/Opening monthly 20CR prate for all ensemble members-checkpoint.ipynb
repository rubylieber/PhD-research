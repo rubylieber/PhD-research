{
 "cells": [
  {
   "cell_type": "code",
   "execution_count": 1,
   "id": "2bb3dd86",
   "metadata": {},
   "outputs": [],
   "source": [
    "import xarray as xr"
   ]
  },
  {
   "cell_type": "code",
   "execution_count": 2,
   "id": "c9f86d87",
   "metadata": {},
   "outputs": [],
   "source": [
    "# Generate member list\n",
    "members = [str(x).zfill(2) for x in range(1,81)]"
   ]
  },
  {
   "cell_type": "code",
   "execution_count": 3,
   "id": "4c8d678b",
   "metadata": {},
   "outputs": [],
   "source": [
    "for m in members:\n",
    "    # Generate path\n",
    "    path = f'/g/data/ua8/LE_models/20CRv3/member_monthly/PRATE/*/*_mem0{m}.nc'\n",
    "    # Read in all years for that member \n",
    "    ds = xr.open_mfdataset(path, parallel=True)\n",
    "    # Chunk data \n",
    "    ds_chunk = ds.PRATE.chunk(chunks={'time':-1, 'lat':110, 'lon':110})\n",
    "    # Save as netcdf\n",
    "    ds_chunk.to_netcdf(f'/g/data/w40/rl5183/20CR/precip/members/monthly_prate_mem0{m}.nc')"
   ]
  },
  {
   "cell_type": "code",
   "execution_count": 2,
   "id": "dab14bc0",
   "metadata": {},
   "outputs": [],
   "source": [
    "# Remove member 70 \n",
    "members = [*range(1,70),*range(71,81)]"
   ]
  },
  {
   "cell_type": "code",
   "execution_count": 3,
   "id": "38151b9a",
   "metadata": {},
   "outputs": [],
   "source": [
    "precip_paths = [f\"/g/data/w40/rl5183/20CR/precip/members/monthly_prate_mem0{m:02d}.nc\" for m in members]"
   ]
  },
  {
   "cell_type": "code",
   "execution_count": 4,
   "id": "da949ba2",
   "metadata": {},
   "outputs": [],
   "source": [
    "ds_prate = xr.open_mfdataset(precip_paths, combine='nested', concat_dim='member', chunks={'time':-1, 'lat':110, 'lon':110})\n",
    "ds_prate.coords['member'] = members"
   ]
  },
  {
   "cell_type": "code",
   "execution_count": null,
   "id": "1f8e1d9d",
   "metadata": {},
   "outputs": [],
   "source": [
    "# Save as net cdf\n",
    "ds_prate.to_netcdf('/g/data/w40/rl5183/20CR/precip/monthly_prate_all_members')"
   ]
  },
  {
   "cell_type": "code",
   "execution_count": null,
   "id": "05eeae70",
   "metadata": {},
   "outputs": [],
   "source": []
  }
 ],
 "metadata": {
  "kernelspec": {
   "display_name": "Python 3",
   "language": "python",
   "name": "python3"
  },
  "language_info": {
   "codemirror_mode": {
    "name": "ipython",
    "version": 3
   },
   "file_extension": ".py",
   "mimetype": "text/x-python",
   "name": "python",
   "nbconvert_exporter": "python",
   "pygments_lexer": "ipython3",
   "version": "3.8.10"
  }
 },
 "nbformat": 4,
 "nbformat_minor": 5
}
