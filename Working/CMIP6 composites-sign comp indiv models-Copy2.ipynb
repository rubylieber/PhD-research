{
 "cells": [
  {
   "cell_type": "markdown",
   "id": "894d83b8",
   "metadata": {},
   "source": [
    "1. Read in composite files\n",
    "2. Plot composites (mmm)\n",
    "3. Sign comparison between mean and extreme for each variable (for mmm)\n",
    "4. Individual model comparison - pecentage of agreement? "
   ]
  },
  {
   "cell_type": "code",
   "execution_count": 3,
   "id": "f0154a61",
   "metadata": {},
   "outputs": [
    {
     "data": {
      "text/plain": [
       "<dask.config.set at 0x7f966fe34e80>"
      ]
     },
     "execution_count": 3,
     "metadata": {},
     "output_type": "execute_result"
    }
   ],
   "source": [
    "# 0. Imports \n",
    "import xarray as xr\n",
    "import numpy as np\n",
    "import sys\n",
    "sys.path.append('/home/563/rl5183/PhD-research/Functions')\n",
    "import functions as func\n",
    "import matplotlib.pyplot as plt\n",
    "import cartopy.crs as ccrs\n",
    "from cartopy.mpl.gridliner import LONGITUDE_FORMATTER, LATITUDE_FORMATTER\n",
    "\n",
    "import dask\n",
    "dask.config.set({'array.slicing.split_large_chunks': False})"
   ]
  },
  {
   "cell_type": "code",
   "execution_count": 4,
   "id": "6206c076",
   "metadata": {},
   "outputs": [],
   "source": [
    "# 1. Read in ETCCDI data \n",
    "elnino_txx = xr.open_dataarray('elnino_comp_txx_cmip6_20.nc')\n",
    "lanina_txx = xr.open_dataarray('lanina_comp_txx_cmip6_20.nc')\n",
    "elnino_tnn = xr.open_dataarray('elnino_comp_tnn_cmip6_20.nc')\n",
    "lanina_tnn = xr.open_dataarray('lanina_comp_tnn_cmip6_20.nc')\n",
    "elnino_ts = xr.open_dataarray('elnino_comp_ts_cmip6_20.nc')\n",
    "lanina_ts = xr.open_dataarray('lanina_comp_ts_cmip6_20.nc')"
   ]
  },
  {
   "cell_type": "code",
   "execution_count": 5,
   "id": "1a20a4a8",
   "metadata": {},
   "outputs": [],
   "source": [
    "emptylist = []\n",
    "for m in elnino_ts.model:\n",
    "    emptylist.append(func.sign_corr(elnino_ts.sel(model=m), elnino_tnn.sel(model=m)))"
   ]
  },
  {
   "cell_type": "code",
   "execution_count": 6,
   "id": "cc00caf5",
   "metadata": {},
   "outputs": [],
   "source": [
    "elnino_ts_tnn_sign = xr.DataArray(emptylist, dims=elnino_ts.dims, coords=elnino_ts.coords)"
   ]
  },
  {
   "cell_type": "code",
   "execution_count": 7,
   "id": "9d101250",
   "metadata": {},
   "outputs": [],
   "source": [
    "# save as net cdf\n",
    "elnino_ts_tnn_sign.to_netcdf('elnino_ts_tnn_sign.nc')"
   ]
  },
  {
   "cell_type": "code",
   "execution_count": null,
   "id": "4bddf4d7",
   "metadata": {},
   "outputs": [],
   "source": []
  }
 ],
 "metadata": {
  "kernelspec": {
   "display_name": "Python 3 (ipykernel)",
   "language": "python",
   "name": "python3"
  },
  "language_info": {
   "codemirror_mode": {
    "name": "ipython",
    "version": 3
   },
   "file_extension": ".py",
   "mimetype": "text/x-python",
   "name": "python",
   "nbconvert_exporter": "python",
   "pygments_lexer": "ipython3",
   "version": "3.9.15"
  }
 },
 "nbformat": 4,
 "nbformat_minor": 5
}
