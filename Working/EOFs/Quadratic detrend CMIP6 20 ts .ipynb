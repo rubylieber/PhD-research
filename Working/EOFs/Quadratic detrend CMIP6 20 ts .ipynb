{
 "cells": [
  {
   "cell_type": "code",
   "execution_count": 3,
   "id": "39c3c803",
   "metadata": {},
   "outputs": [],
   "source": [
    "import xarray as xr\n",
    "import sys\n",
    "sys.path.append('/home/563/rl5183/PhD-research/Functions')\n",
    "import functions as func"
   ]
  },
  {
   "cell_type": "code",
   "execution_count": 4,
   "id": "04b6ab3e",
   "metadata": {},
   "outputs": [],
   "source": [
    "# Read in model ts data \n",
    "multi_model = func.read_in_cmip_models('/g/data/eg3/mf3225/CMIP_TS/CMIP6/historical', 'r1i1p1f1', 'ts', '1850-01', '2015-01')\n",
    "# Order models alphabetically \n",
    "multi_model = multi_model.sortby('model')\n",
    "# Select out surface temperature data \n",
    "data = multi_model.ts"
   ]
  },
  {
   "cell_type": "code",
   "execution_count": 5,
   "id": "b4e595f0",
   "metadata": {},
   "outputs": [],
   "source": [
    "# Select out the 20 models we are using \n",
    "keep = ['ACCESS-CM2', 'ACCESS-ESM1-5', 'BCC-CSM2-MR', 'CanESM5', 'EC-Earth3', 'EC-Earth3-Veg', 'FGOALS-g3',\n",
    "        'GFDL-CM4', 'GFDL-ESM4', 'INM-CM4-8', 'INM-CM5-0', 'KACE-1-0-G', 'KIOST-ESM', 'MIROC6', 'MPI-ESM1-2-HR',\n",
    "        'MPI-ESM1-2-LR', 'MRI-ESM2-0', 'NESM3', 'NorESM2-LM', 'NorESM2-MM']\n",
    "\n",
    "data = data.sel(model=keep)"
   ]
  },
  {
   "cell_type": "code",
   "execution_count": 6,
   "id": "e88b51e6",
   "metadata": {},
   "outputs": [],
   "source": [
    "# Quadratically detrend temp data \n",
    "data_dt = xr.apply_ufunc(func.quad_detrend, data, \n",
    "                             input_core_dims=[['time']],\n",
    "                             output_core_dims=[['time']],\n",
    "                             vectorize=True,\n",
    "                             dask='parallelized')\n",
    "\n",
    "data_dt = data_dt.transpose(*data.dims).chunk('auto').sel(time=slice('1900-01', '2014-12'))"
   ]
  },
  {
   "cell_type": "code",
   "execution_count": 7,
   "id": "3779e90c",
   "metadata": {},
   "outputs": [],
   "source": [
    "data_dt.to_netcdf('/g/data/w40/rl5183/CMIP6_20_ts_quad_detrend_1900_2015.nc')"
   ]
  },
  {
   "cell_type": "code",
   "execution_count": null,
   "id": "e5cf32e0",
   "metadata": {},
   "outputs": [],
   "source": []
  }
 ],
 "metadata": {
  "kernelspec": {
   "display_name": "Python 3 (ipykernel)",
   "language": "python",
   "name": "python3"
  },
  "language_info": {
   "codemirror_mode": {
    "name": "ipython",
    "version": 3
   },
   "file_extension": ".py",
   "mimetype": "text/x-python",
   "name": "python",
   "nbconvert_exporter": "python",
   "pygments_lexer": "ipython3",
   "version": "3.9.15"
  }
 },
 "nbformat": 4,
 "nbformat_minor": 5
}
