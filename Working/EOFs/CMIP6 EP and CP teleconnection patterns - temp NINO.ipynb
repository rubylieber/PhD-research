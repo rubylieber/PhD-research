{
 "cells": [
  {
   "cell_type": "code",
   "execution_count": 1,
   "id": "b86c5ea6",
   "metadata": {},
   "outputs": [],
   "source": [
    "import xarray as xr\n",
    "import numpy as np\n",
    "import pandas as pd\n",
    "import sys\n",
    "sys.path.append('/home/563/rl5183/PhD-research/Functions')\n",
    "import functions as func\n",
    "import matplotlib.pyplot as plt\n",
    "import cartopy.crs as ccrs"
   ]
  },
  {
   "cell_type": "code",
   "execution_count": null,
   "id": "492c74f0",
   "metadata": {},
   "outputs": [],
   "source": [
    "# Open quatratically detrended ts data for the 20 CMIP6 models \n",
    "data = xr.open_dataarray('/g/data/w40/rl5183/CMIP6_20_ts_quad_detrend_1900_2015.nc').chunk('auto')"
   ]
  },
  {
   "cell_type": "code",
   "execution_count": null,
   "id": "ba53fadd",
   "metadata": {},
   "outputs": [],
   "source": [
    "# Calculate anomalies \n",
    "clims = data.sel(time=slice('1979-01', '2008-12')).groupby('time.month').mean()\n",
    "anoms = (data.groupby('time.month') - clims).chunk('auto')"
   ]
  },
  {
   "cell_type": "code",
   "execution_count": null,
   "id": "821691e6",
   "metadata": {},
   "outputs": [],
   "source": [
    "# Take DJF average\n",
    "quarterly_anoms = anoms.resample(time='QS-DEC').mean('time')\n",
    "djf_anoms = quarterly_anoms.isel(time=slice(0,None,4))"
   ]
  },
  {
   "cell_type": "code",
   "execution_count": null,
   "id": "200669a6",
   "metadata": {},
   "outputs": [],
   "source": [
    "# NINO indices \n",
    "EP = xr.open_dataarray('/g/data/w40/rl5183/EP_nino_cmip6_20.nc')\n",
    "CP = xr.open_dataarray('/g/data/w40/rl5183/CP_nino_cmip6_20.nc')"
   ]
  },
  {
   "cell_type": "code",
   "execution_count": null,
   "id": "95083fc3",
   "metadata": {},
   "outputs": [],
   "source": [
    "# Take DJF average of EP index and CP index\n",
    "quarterly_EP = EP.resample(time='QS-DEC').mean('time')\n",
    "djf_EP = quarterly_EP.isel(time=slice(0,None,4))\n",
    "\n",
    "quarterly_CP = CP.resample(time='QS-DEC').mean('time')\n",
    "djf_CP = quarterly_CP.isel(time=slice(0,None,4))"
   ]
  },
  {
   "cell_type": "code",
   "execution_count": null,
   "id": "2781d318",
   "metadata": {},
   "outputs": [],
   "source": [
    "# Linear regression of SST anomalies onto EP index and CP index\n",
    "EP_regress_list = []\n",
    "CP_regress_list = []\n",
    "for m in djf_anoms.model:\n",
    "    EP_regress_list.append(func.regress_nino(djf_anoms.sel(model=m).drop_sel(time='1899-12'), djf_EP.sel(model=m).drop_sel(time='1899-12')))\n",
    "    CP_regress_list.append(func.regress_nino(djf_anoms.sel(model=m).drop_sel(time='1899-12'), djf_CP.sel(model=m).drop_sel(time='1899-12')))"
   ]
  },
  {
   "cell_type": "code",
   "execution_count": null,
   "id": "fe7a3a15",
   "metadata": {},
   "outputs": [],
   "source": [
    "EP_regress_list"
   ]
  },
  {
   "cell_type": "code",
   "execution_count": null,
   "id": "a3371e8f",
   "metadata": {},
   "outputs": [],
   "source": [
    "EP_regressions = xr.concat(EP_regress_list, dim='model')\n",
    "CP_regressions = xr.concat(CP_regress_list, dim='model')"
   ]
  },
  {
   "cell_type": "code",
   "execution_count": null,
   "id": "699a35fb",
   "metadata": {},
   "outputs": [],
   "source": [
    "EP_regressions.to_netcdf('/g/data/w40/rl5183/CMIP6_20_EP_temp_regressions')\n",
    "CP_regressions.to_netcdf('/g/data/w40/rl5183/CMIP6_20_CP_temp_regressions')"
   ]
  },
  {
   "cell_type": "code",
   "execution_count": 2,
   "id": "f63076a0",
   "metadata": {},
   "outputs": [],
   "source": [
    "EP_regressions = xr.open_dataarray('/g/data/w40/rl5183/CMIP6_20_EP_temp_regressions')\n",
    "CP_regressions = xr.open_dataarray('/g/data/w40/rl5183/CMIP6_20_CP_temp_regressions')"
   ]
  },
  {
   "cell_type": "code",
   "execution_count": null,
   "id": "fccaba01",
   "metadata": {},
   "outputs": [],
   "source": [
    "fig = plt.figure(figsize=(20,12.5))\n",
    "axs = []\n",
    "\n",
    "columns = 4\n",
    "rows = 5\n",
    "\n",
    "for i, m in enumerate(EP_regressions.model):\n",
    "    # Flip pattern so positive regression in tropical pacific\n",
    "    if EP_regressions.sel(model=m).sel(lat=-0.75).sel(lon=222) < 0:\n",
    "        d = EP_regressions.sel(model=m)*-1\n",
    "    else: d = EP_regressions.sel(model=m)\n",
    "    # Plot \n",
    "    ax = fig.add_subplot(rows, columns, i+1, projection=ccrs.PlateCarree(180))\n",
    "    C = d.plot(ax=ax, vmin=-1, vmax=1, add_colorbar=False, cmap='RdBu_r', transform=ccrs.PlateCarree())\n",
    "    ax.coastlines()\n",
    "    ax.set_title(f'{m.data}')\n",
    "    # Gather all axes for when we make the colour bar\n",
    "    axs.append(ax)\n",
    "    \n",
    "# Put the colour bar to the left of all axes\n",
    "cbar = plt.colorbar(C, ax=axs, shrink=0.5)\n",
    "\n",
    "#plt.savefig('CMIP6_EP_glob_ts_pattern_NINO', bbox_inches='tight', dpi=300)"
   ]
  },
  {
   "cell_type": "code",
   "execution_count": null,
   "id": "09fd3eb8",
   "metadata": {},
   "outputs": [],
   "source": [
    "fig = plt.figure(figsize=(20,12.5))\n",
    "axs = []\n",
    "\n",
    "columns = 4\n",
    "rows = 5\n",
    "\n",
    "for i, m in enumerate(CP_regressions.model):\n",
    "    # Flip pattern so positive regression in tropical pacific\n",
    "    if CP_regressions.sel(model=m).sel(lat=-0.75).sel(lon=222) < 0:\n",
    "        d = CP_regressions.sel(model=m)*-1\n",
    "    else: d = CP_regressions.sel(model=m)\n",
    "    # Plot \n",
    "    ax = fig.add_subplot(rows, columns, i+1, projection=ccrs.PlateCarree(180))\n",
    "    C = d.plot(ax=ax, vmin=-1, vmax=1, add_colorbar=False, cmap='RdBu_r', transform=ccrs.PlateCarree())\n",
    "    ax.coastlines()\n",
    "    ax.set_title(f'{m.data}')\n",
    "    # Gather all axes for when we make the colour bar\n",
    "    axs.append(ax)\n",
    "    \n",
    "# Put the colour bar to the left of all axes\n",
    "cbar = plt.colorbar(C, ax=axs, shrink=0.5)\n",
    "\n",
    "#plt.savefig('CMIP6_CP_glob_ts_pattern_NINO', bbox_inches='tight', dpi=300)"
   ]
  },
  {
   "cell_type": "markdown",
   "id": "28dfaab4",
   "metadata": {},
   "source": [
    "#### Pattern correlations"
   ]
  },
  {
   "cell_type": "code",
   "execution_count": 3,
   "id": "904c834d",
   "metadata": {},
   "outputs": [],
   "source": [
    "# Read in the quadratically detrended 20CR temp\n",
    "temp = xr.open_dataarray('/g/data/w40/rl5183/20CR_tmp_ensemble_mean_quad_detrend_1.5x1.5.nc')\n",
    "# Calculate anomalies\n",
    "clim = temp.sel(time=slice('1979-01', '2008-12')).groupby('time.month').mean()\n",
    "anom = (temp.groupby('time.month') - clim)\n",
    "# Take DJF average\n",
    "quarterly_anom = anom.resample(time='QS-DEC').mean('time')\n",
    "djf_anom = quarterly_anom.isel(time=slice(0,None,4))\n",
    "# NINO indices from Hadisst\n",
    "sst = xr.open_dataset('/g/data/w40/rl5183/hadisst.1870_2017_1.5x1.5.nc').sst\n",
    "# Detrend \n",
    "sst_detrend = np.apply_along_axis(func.quad_detrend, 0, sst)\n",
    "sst_dt = xr.DataArray(sst_detrend, coords=sst.coords, attrs=sst.attrs)\n",
    "# Calculate EP and CP index\n",
    "nino3 = func.nino3_index(sst_dt, '1979-01', '2008-12')\n",
    "nino4 = func.nino4_index(sst_dt, '1979-01', '2008-12')\n",
    "# Calculate EP and CP index\n",
    "EP_sst = (nino3 - 0.5*nino4).sel(time=slice('1900-01', '2014-12'))\n",
    "CP_sst = (nino4 - 0.5*nino3).sel(time=slice('1900-01', '2014-12'))\n",
    "# Take DJF average of EP index and CP index\n",
    "quarterly_EP = EP_sst.resample(time='QS-DEC').mean('time')\n",
    "djf_EP = quarterly_EP.isel(time=slice(0,None,4))\n",
    "\n",
    "quarterly_CP = CP_sst.resample(time='QS-DEC').mean('time')\n",
    "djf_CP = quarterly_CP.isel(time=slice(0,None,4))\n",
    "# Regression\n",
    "EP_regress_20CR = func.regress_nino(djf_anom, djf_EP)\n",
    "CP_regress_20CR = func.regress_nino(djf_anom, djf_CP)"
   ]
  },
  {
   "cell_type": "code",
   "execution_count": 4,
   "id": "1ed1ea1d",
   "metadata": {},
   "outputs": [],
   "source": [
    "def group_by_lat(data, regions):\n",
    "    data_by_lat = []\n",
    "    for reg_name,reg_loc in regions.items():\n",
    "        data_sliced = data.sel(lat=reg_loc).rename(reg_name)\n",
    "        data_by_lat.append(data_sliced)\n",
    "    data_by_lat = xr.merge(data_by_lat)\n",
    "    return data_by_lat"
   ]
  },
  {
   "cell_type": "code",
   "execution_count": 5,
   "id": "433dbbb9",
   "metadata": {},
   "outputs": [],
   "source": [
    "# Define the regions\n",
    "regions = {\n",
    "    \"Tropics\":slice(-23.5,23.5),\n",
    "    \"Subtropics_NH\":slice(23.5,35.5),\n",
    "    \"Subtropics_SH\":slice(-35.5, -23.5),\n",
    "    \"Mid_latitudes_NH\":slice(35.5, 66.5),\n",
    "    \"Mid_latitudes_SH\":slice(-66.5, -35.5),\n",
    "}"
   ]
  },
  {
   "cell_type": "code",
   "execution_count": 6,
   "id": "55dc99f9",
   "metadata": {},
   "outputs": [],
   "source": [
    "EP_grouped_20CR = group_by_lat(EP_regress_20CR, regions)\n",
    "CP_grouped_20CR = group_by_lat(CP_regress_20CR, regions)"
   ]
  },
  {
   "cell_type": "code",
   "execution_count": 7,
   "id": "5d565c5a",
   "metadata": {},
   "outputs": [],
   "source": [
    "EP_grouped = []\n",
    "for m in EP_regressions.model:\n",
    "    EP_grouped.append(group_by_lat(EP_regressions.sel(model=m), regions))\n",
    "EP_grouped = xr.concat(EP_grouped, dim='model')"
   ]
  },
  {
   "cell_type": "code",
   "execution_count": 8,
   "id": "09b949a8",
   "metadata": {},
   "outputs": [],
   "source": [
    "CP_grouped = []\n",
    "for m in CP_regressions.model:\n",
    "    CP_grouped.append(group_by_lat(CP_regressions.sel(model=m), regions))\n",
    "CP_grouped = xr.concat(CP_grouped, dim='model')"
   ]
  },
  {
   "cell_type": "code",
   "execution_count": 9,
   "id": "0cafebb0",
   "metadata": {},
   "outputs": [],
   "source": [
    "Tropics_cor_EP = []\n",
    "for m in EP_grouped.model:\n",
    "    Tropics_cor_EP.append(func.pattern_cor(EP_grouped.Tropics.sel(model=m), EP_grouped_20CR.Tropics))\n",
    "    \n",
    "Sub_NH_cor_EP = []\n",
    "for m in EP_grouped.model:\n",
    "    Sub_NH_cor_EP.append(func.pattern_cor(EP_grouped.Subtropics_NH.sel(model=m), EP_grouped_20CR.Subtropics_NH))\n",
    "    \n",
    "Sub_SH_cor_EP = []\n",
    "for m in EP_grouped.model:\n",
    "    Sub_SH_cor_EP.append(func.pattern_cor(EP_grouped.Subtropics_SH.sel(model=m), EP_grouped_20CR.Subtropics_SH))\n",
    "    \n",
    "Mid_NH_cor_EP = []\n",
    "for m in EP_grouped.model:\n",
    "    Mid_NH_cor_EP.append(func.pattern_cor(EP_grouped.Mid_latitudes_NH.sel(model=m), EP_grouped_20CR.Mid_latitudes_NH))\n",
    "    \n",
    "Mid_SH_cor_EP = []\n",
    "for m in EP_grouped.model:\n",
    "    Mid_SH_cor_EP.append(func.pattern_cor(EP_grouped.Mid_latitudes_SH.sel(model=m), EP_grouped_20CR.Mid_latitudes_SH))"
   ]
  },
  {
   "cell_type": "code",
   "execution_count": 10,
   "id": "cdc207d8",
   "metadata": {},
   "outputs": [],
   "source": [
    "Tropics_cor_CP = []\n",
    "for m in CP_grouped.model:\n",
    "    Tropics_cor_CP.append(func.pattern_cor(CP_grouped.Tropics.sel(model=m), CP_grouped_20CR.Tropics))\n",
    "    \n",
    "Sub_NH_cor_CP = []\n",
    "for m in CP_grouped.model:\n",
    "    Sub_NH_cor_CP.append(func.pattern_cor(CP_grouped.Subtropics_NH.sel(model=m), CP_grouped_20CR.Subtropics_NH))\n",
    "    \n",
    "Sub_SH_cor_CP = []\n",
    "for m in CP_grouped.model:\n",
    "    Sub_SH_cor_CP.append(func.pattern_cor(CP_grouped.Subtropics_SH.sel(model=m), CP_grouped_20CR.Subtropics_SH))\n",
    "    \n",
    "Mid_NH_cor_CP = []\n",
    "for m in CP_grouped.model:\n",
    "    Mid_NH_cor_CP.append(func.pattern_cor(CP_grouped.Mid_latitudes_NH.sel(model=m), CP_grouped_20CR.Mid_latitudes_NH))\n",
    "    \n",
    "Mid_SH_cor_CP = []\n",
    "for m in CP_grouped.model:\n",
    "    Mid_SH_cor_CP.append(func.pattern_cor(CP_grouped.Mid_latitudes_SH.sel(model=m), CP_grouped_20CR.Mid_latitudes_SH))"
   ]
  },
  {
   "cell_type": "code",
   "execution_count": 11,
   "id": "13b2eb60",
   "metadata": {},
   "outputs": [
    {
     "data": {
      "text/html": [
       "<div>\n",
       "<style scoped>\n",
       "    .dataframe tbody tr th:only-of-type {\n",
       "        vertical-align: middle;\n",
       "    }\n",
       "\n",
       "    .dataframe tbody tr th {\n",
       "        vertical-align: top;\n",
       "    }\n",
       "\n",
       "    .dataframe thead th {\n",
       "        text-align: right;\n",
       "    }\n",
       "</style>\n",
       "<table border=\"1\" class=\"dataframe\">\n",
       "  <thead>\n",
       "    <tr style=\"text-align: right;\">\n",
       "      <th></th>\n",
       "      <th>Model</th>\n",
       "      <th>Tropics</th>\n",
       "      <th>Sub Tropics NH</th>\n",
       "      <th>Sub Tropics SH</th>\n",
       "      <th>Mid Lats NH</th>\n",
       "      <th>Mid Lats SH</th>\n",
       "    </tr>\n",
       "  </thead>\n",
       "  <tbody>\n",
       "    <tr>\n",
       "      <th>0</th>\n",
       "      <td>ACCESS-CM2</td>\n",
       "      <td>0.866310</td>\n",
       "      <td>0.640019</td>\n",
       "      <td>0.799055</td>\n",
       "      <td>0.624892</td>\n",
       "      <td>0.675516</td>\n",
       "    </tr>\n",
       "    <tr>\n",
       "      <th>1</th>\n",
       "      <td>ACCESS-ESM1-5</td>\n",
       "      <td>0.830907</td>\n",
       "      <td>0.614958</td>\n",
       "      <td>0.750971</td>\n",
       "      <td>0.093454</td>\n",
       "      <td>0.688102</td>\n",
       "    </tr>\n",
       "    <tr>\n",
       "      <th>2</th>\n",
       "      <td>BCC-CSM2-MR</td>\n",
       "      <td>0.803712</td>\n",
       "      <td>0.665860</td>\n",
       "      <td>0.783506</td>\n",
       "      <td>0.280143</td>\n",
       "      <td>0.620280</td>\n",
       "    </tr>\n",
       "    <tr>\n",
       "      <th>3</th>\n",
       "      <td>CanESM5</td>\n",
       "      <td>0.662054</td>\n",
       "      <td>0.641007</td>\n",
       "      <td>0.846153</td>\n",
       "      <td>0.365979</td>\n",
       "      <td>0.616774</td>\n",
       "    </tr>\n",
       "    <tr>\n",
       "      <th>4</th>\n",
       "      <td>EC-Earth3</td>\n",
       "      <td>0.901118</td>\n",
       "      <td>0.483141</td>\n",
       "      <td>0.798873</td>\n",
       "      <td>0.062349</td>\n",
       "      <td>0.635457</td>\n",
       "    </tr>\n",
       "  </tbody>\n",
       "</table>\n",
       "</div>"
      ],
      "text/plain": [
       "           Model   Tropics  Sub Tropics NH  Sub Tropics SH  Mid Lats NH  \\\n",
       "0     ACCESS-CM2  0.866310        0.640019        0.799055     0.624892   \n",
       "1  ACCESS-ESM1-5  0.830907        0.614958        0.750971     0.093454   \n",
       "2    BCC-CSM2-MR  0.803712        0.665860        0.783506     0.280143   \n",
       "3        CanESM5  0.662054        0.641007        0.846153     0.365979   \n",
       "4      EC-Earth3  0.901118        0.483141        0.798873     0.062349   \n",
       "\n",
       "   Mid Lats SH  \n",
       "0     0.675516  \n",
       "1     0.688102  \n",
       "2     0.620280  \n",
       "3     0.616774  \n",
       "4     0.635457  "
      ]
     },
     "execution_count": 11,
     "metadata": {},
     "output_type": "execute_result"
    }
   ],
   "source": [
    "# Make pandas dataframe \n",
    "model_names = EP_regressions.model.values\n",
    "names = list(model_names)\n",
    "\n",
    "pandas_data = []\n",
    "for i in np.arange(0,len(names)):\n",
    "    cell = [names[i], Tropics_cor_EP[i], Sub_NH_cor_EP[i], Sub_SH_cor_EP[i], Mid_NH_cor_EP[i], Mid_SH_cor_EP[i]]\n",
    "    pandas_data.append(cell)\n",
    "    \n",
    "EP_df = pd.DataFrame(pandas_data, columns=['Model', 'Tropics', 'Sub Tropics NH', 'Sub Tropics SH', 'Mid Lats NH', 'Mid Lats SH'])\n",
    "EP_df.head()"
   ]
  },
  {
   "cell_type": "code",
   "execution_count": null,
   "id": "c62fc8d1",
   "metadata": {
    "scrolled": true
   },
   "outputs": [],
   "source": [
    "EP_df.plot(x='Model', kind='bar', stacked=False, figsize=(15,3))\n",
    "plt.legend(loc=(1.01,0.7))\n",
    "plt.title('EP TEMP NINO')"
   ]
  },
  {
   "cell_type": "code",
   "execution_count": null,
   "id": "37beb795",
   "metadata": {},
   "outputs": [],
   "source": [
    "EP_df.boxplot(column=['Tropics', 'Sub Tropics NH', 'Sub Tropics SH', 'Mid Lats NH', 'Mid Lats SH'], figsize=(7.5,5))\n",
    "plt.title('EP TEMP NINO')"
   ]
  },
  {
   "cell_type": "code",
   "execution_count": 12,
   "id": "5fc57c60",
   "metadata": {},
   "outputs": [
    {
     "data": {
      "text/html": [
       "<div>\n",
       "<style scoped>\n",
       "    .dataframe tbody tr th:only-of-type {\n",
       "        vertical-align: middle;\n",
       "    }\n",
       "\n",
       "    .dataframe tbody tr th {\n",
       "        vertical-align: top;\n",
       "    }\n",
       "\n",
       "    .dataframe thead th {\n",
       "        text-align: right;\n",
       "    }\n",
       "</style>\n",
       "<table border=\"1\" class=\"dataframe\">\n",
       "  <thead>\n",
       "    <tr style=\"text-align: right;\">\n",
       "      <th></th>\n",
       "      <th>Model</th>\n",
       "      <th>Tropics</th>\n",
       "      <th>Sub Tropics NH</th>\n",
       "      <th>Sub Tropics SH</th>\n",
       "      <th>Mid Lats NH</th>\n",
       "      <th>Mid Lats SH</th>\n",
       "    </tr>\n",
       "  </thead>\n",
       "  <tbody>\n",
       "    <tr>\n",
       "      <th>0</th>\n",
       "      <td>ACCESS-CM2</td>\n",
       "      <td>0.846656</td>\n",
       "      <td>0.789074</td>\n",
       "      <td>0.803481</td>\n",
       "      <td>0.603352</td>\n",
       "      <td>0.886146</td>\n",
       "    </tr>\n",
       "    <tr>\n",
       "      <th>1</th>\n",
       "      <td>ACCESS-ESM1-5</td>\n",
       "      <td>0.688373</td>\n",
       "      <td>0.542004</td>\n",
       "      <td>0.798762</td>\n",
       "      <td>0.489894</td>\n",
       "      <td>0.812768</td>\n",
       "    </tr>\n",
       "    <tr>\n",
       "      <th>2</th>\n",
       "      <td>BCC-CSM2-MR</td>\n",
       "      <td>0.775853</td>\n",
       "      <td>0.715708</td>\n",
       "      <td>0.791336</td>\n",
       "      <td>0.597223</td>\n",
       "      <td>0.824637</td>\n",
       "    </tr>\n",
       "    <tr>\n",
       "      <th>3</th>\n",
       "      <td>CanESM5</td>\n",
       "      <td>0.632032</td>\n",
       "      <td>0.783904</td>\n",
       "      <td>0.848268</td>\n",
       "      <td>0.592449</td>\n",
       "      <td>0.654291</td>\n",
       "    </tr>\n",
       "    <tr>\n",
       "      <th>4</th>\n",
       "      <td>EC-Earth3</td>\n",
       "      <td>0.796247</td>\n",
       "      <td>0.440992</td>\n",
       "      <td>0.781122</td>\n",
       "      <td>0.079610</td>\n",
       "      <td>0.834197</td>\n",
       "    </tr>\n",
       "  </tbody>\n",
       "</table>\n",
       "</div>"
      ],
      "text/plain": [
       "           Model   Tropics  Sub Tropics NH  Sub Tropics SH  Mid Lats NH  \\\n",
       "0     ACCESS-CM2  0.846656        0.789074        0.803481     0.603352   \n",
       "1  ACCESS-ESM1-5  0.688373        0.542004        0.798762     0.489894   \n",
       "2    BCC-CSM2-MR  0.775853        0.715708        0.791336     0.597223   \n",
       "3        CanESM5  0.632032        0.783904        0.848268     0.592449   \n",
       "4      EC-Earth3  0.796247        0.440992        0.781122     0.079610   \n",
       "\n",
       "   Mid Lats SH  \n",
       "0     0.886146  \n",
       "1     0.812768  \n",
       "2     0.824637  \n",
       "3     0.654291  \n",
       "4     0.834197  "
      ]
     },
     "execution_count": 12,
     "metadata": {},
     "output_type": "execute_result"
    }
   ],
   "source": [
    "# Make pandas dataframe \n",
    "model_names = CP_regressions.model.values\n",
    "names = list(model_names)\n",
    "\n",
    "pandas_data = []\n",
    "for i in np.arange(0,len(names)):\n",
    "    cell = [names[i], Tropics_cor_CP[i], Sub_NH_cor_CP[i], Sub_SH_cor_CP[i], Mid_NH_cor_CP[i], Mid_SH_cor_CP[i]]\n",
    "    pandas_data.append(cell)\n",
    "    \n",
    "CP_df = pd.DataFrame(pandas_data, columns=['Model', 'Tropics', 'Sub Tropics NH', 'Sub Tropics SH', 'Mid Lats NH', 'Mid Lats SH'])\n",
    "CP_df.head()"
   ]
  },
  {
   "cell_type": "code",
   "execution_count": 13,
   "id": "c5795737",
   "metadata": {},
   "outputs": [
    {
     "name": "stdout",
     "output_type": "stream",
     "text": [
      "Stored 'EP_df' (DataFrame)\n",
      "Stored 'CP_df' (DataFrame)\n"
     ]
    }
   ],
   "source": [
    "%store EP_df\n",
    "%store CP_df"
   ]
  },
  {
   "cell_type": "code",
   "execution_count": null,
   "id": "39d5e776",
   "metadata": {},
   "outputs": [],
   "source": [
    "CP_df.plot(x='Model', kind='bar', stacked=False, figsize=(15,3))\n",
    "plt.legend(loc=(1.01,0.7))\n",
    "plt.title('CP TEMP NINO')"
   ]
  },
  {
   "cell_type": "code",
   "execution_count": null,
   "id": "86e18080",
   "metadata": {},
   "outputs": [],
   "source": [
    "CP_df.boxplot(column=['Tropics', 'Sub Tropics NH', 'Sub Tropics SH', 'Mid Lats NH', 'Mid Lats SH'], figsize=(7.5,5))\n",
    "plt.title('CP TEMP NINO')"
   ]
  },
  {
   "cell_type": "code",
   "execution_count": 13,
   "id": "da824895",
   "metadata": {},
   "outputs": [
    {
     "data": {
      "text/plain": [
       "Text(0, 0.5, 'CP')"
      ]
     },
     "execution_count": 13,
     "metadata": {},
     "output_type": "execute_result"
    },
    {
     "data": {
      "image/png": "[encoded data removed]",
      "text/plain": [
       "<Figure size 432x288 with 1 Axes>"
      ]
     },
     "metadata": {
      "needs_background": "light"
     },
     "output_type": "display_data"
    }
   ],
   "source": [
    "plt.scatter(EP_df['Tropics'], CP_df['Tropics'], label='Tropics')\n",
    "plt.scatter(EP_df['Sub Tropics NH'], CP_df['Sub Tropics NH'], label='Sub Tropics NH')\n",
    "plt.scatter(EP_df['Sub Tropics SH'], CP_df['Sub Tropics SH'], label='Sub Tropics SH')\n",
    "plt.scatter(EP_df['Mid Lats NH'], CP_df['Mid Lats NH'], label='Mid Lats NH')\n",
    "plt.scatter(EP_df['Mid Lats SH'], CP_df['Mid Lats SH'], label='Mid Lats SH')\n",
    "plt.title('Temp NINO')\n",
    "plt.legend()\n",
    "plt.xlabel('EP')\n",
    "plt.ylabel('CP')"
   ]
  },
  {
   "cell_type": "code",
   "execution_count": null,
   "id": "8b96012f",
   "metadata": {},
   "outputs": [],
   "source": [
    "%store -r had_EP_sst_nino"
   ]
  },
  {
   "cell_type": "code",
   "execution_count": null,
   "id": "f1ae5336",
   "metadata": {},
   "outputs": [],
   "source": [
    "fig = plt.figure(figsize=(12,6.5))\n",
    "ax = fig.add_subplot(2,3,1)\n",
    "ax.scatter(had_EP_sst_nino, Tropics_cor_EP)\n",
    "ax.title.set_text('Tropics')\n",
    "ax = fig.add_subplot(2,3,2)\n",
    "ax.scatter(had_EP_sst_nino, Sub_NH_cor_EP)\n",
    "ax.title.set_text('Sub tropics NH')\n",
    "ax = fig.add_subplot(2,3,3)\n",
    "ax.scatter(had_EP_sst_nino, Sub_SH_cor_EP)\n",
    "ax.title.set_text('Sub tropics SH')\n",
    "ax = fig.add_subplot(2,3,4)\n",
    "ax.scatter(had_EP_sst_nino, Mid_NH_cor_EP)\n",
    "ax.title.set_text('Mid lats NH')\n",
    "ax = fig.add_subplot(2,3,5)\n",
    "ax.scatter(had_EP_sst_nino, Mid_SH_cor_EP)\n",
    "ax.title.set_text('Mid lats SH')"
   ]
  },
  {
   "cell_type": "code",
   "execution_count": null,
   "id": "fdc6816e",
   "metadata": {},
   "outputs": [],
   "source": [
    "%store -r had_CP_sst_nino"
   ]
  },
  {
   "cell_type": "code",
   "execution_count": null,
   "id": "c7f8ff87",
   "metadata": {},
   "outputs": [],
   "source": [
    "fig = plt.figure(figsize=(12,6.5))\n",
    "ax = fig.add_subplot(2,3,1)\n",
    "ax.scatter(had_CP_sst_nino, Tropics_cor_CP)\n",
    "ax.title.set_text('Tropics')\n",
    "ax = fig.add_subplot(2,3,2)\n",
    "ax.scatter(had_CP_sst_nino, Sub_NH_cor_CP)\n",
    "ax.title.set_text('Sub tropics NH')\n",
    "ax = fig.add_subplot(2,3,3)\n",
    "ax.scatter(had_CP_sst_nino, Sub_SH_cor_CP)\n",
    "ax.title.set_text('Sub tropics SH')\n",
    "ax = fig.add_subplot(2,3,4)\n",
    "ax.scatter(had_CP_sst_nino, Mid_NH_cor_CP)\n",
    "ax.title.set_text('Mid lats NH')\n",
    "ax = fig.add_subplot(2,3,5)\n",
    "ax.scatter(had_CP_sst_nino, Mid_SH_cor_CP)\n",
    "ax.title.set_text('Mid lats SH')"
   ]
  },
  {
   "cell_type": "markdown",
   "id": "39f142b0",
   "metadata": {},
   "source": [
    "#### Do models with better temp teleconnection also have better precip teleconnection? "
   ]
  },
  {
   "cell_type": "code",
   "execution_count": 13,
   "id": "ab84e149",
   "metadata": {},
   "outputs": [],
   "source": [
    "EP_temp = EP_df.copy()\n",
    "CP_temp = CP_df.copy()"
   ]
  },
  {
   "cell_type": "code",
   "execution_count": 14,
   "id": "b87a82ad",
   "metadata": {},
   "outputs": [
    {
     "name": "stdout",
     "output_type": "stream",
     "text": [
      "Stored 'EP_temp' (DataFrame)\n",
      "Stored 'CP_temp' (DataFrame)\n"
     ]
    }
   ],
   "source": [
    "%store EP_temp\n",
    "%store CP_temp"
   ]
  },
  {
   "cell_type": "code",
   "execution_count": null,
   "id": "69406832",
   "metadata": {},
   "outputs": [],
   "source": []
  }
 ],
 "metadata": {
  "kernelspec": {
   "display_name": "Python 3 (ipykernel)",
   "language": "python",
   "name": "python3"
  },
  "language_info": {
   "codemirror_mode": {
    "name": "ipython",
    "version": 3
   },
   "file_extension": ".py",
   "mimetype": "text/x-python",
   "name": "python",
   "nbconvert_exporter": "python",
   "pygments_lexer": "ipython3",
   "version": "3.9.13"
  }
 },
 "nbformat": 4,
 "nbformat_minor": 5
}
