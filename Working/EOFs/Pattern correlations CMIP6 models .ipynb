{
 "cells": [
  {
   "cell_type": "code",
   "execution_count": 1,
   "id": "b1fa9ff7",
   "metadata": {},
   "outputs": [],
   "source": [
    "import xarray as xr\n",
    "import numpy as np\n",
    "import pandas as pd\n",
    "import sys\n",
    "sys.path.append('/home/563/rl5183/PhD-research/Functions')\n",
    "import functions as func\n",
    "import matplotlib.pyplot as plt"
   ]
  },
  {
   "cell_type": "code",
   "execution_count": 2,
   "id": "f26839fe",
   "metadata": {},
   "outputs": [],
   "source": [
    "EP_regressions = xr.open_dataarray('/g/data/w40/rl5183/CMIP6_20_EP_temp_regressions')\n",
    "CP_regressions = xr.open_dataarray('/g/data/w40/rl5183/CMIP6_20_CP_temp_regressions')\n",
    "E_regressions = xr.open_dataarray('/g/data/w40/rl5183/CMIP6_20_E_temp_regressions')\n",
    "C_regressions = xr.open_dataarray('/g/data/w40/rl5183/CMIP6_20_C_temp_regressions')"
   ]
  },
  {
   "cell_type": "code",
   "execution_count": 3,
   "id": "dce626b6",
   "metadata": {},
   "outputs": [
    {
     "data": {
      "text/html": [
       "<div><svg style=\"position: absolute; width: 0; height: 0; overflow: hidden\">\n",
       "<defs>\n",
       "<symbol id=\"icon-database\" viewBox=\"0 0 32 32\">\n",
       "<path d=\"M16 0c-8.837 0-16 2.239-16 5v4c0 2.761 7.163 5 16 5s16-2.239 16-5v-4c0-2.761-7.163-5-16-5z\"></path>\n",
       "<path d=\"M16 17c-8.837 0-16-2.239-16-5v6c0 2.761 7.163 5 16 5s16-2.239 16-5v-6c0 2.761-7.163 5-16 5z\"></path>\n",
       "<path d=\"M16 26c-8.837 0-16-2.239-16-5v6c0 2.761 7.163 5 16 5s16-2.239 16-5v-6c0 2.761-7.163 5-16 5z\"></path>\n",
       "</symbol>\n",
       "<symbol id=\"icon-file-text2\" viewBox=\"0 0 32 32\">\n",
       "<path d=\"M28.681 7.159c-0.694-0.947-1.662-2.053-2.724-3.116s-2.169-2.030-3.116-2.724c-1.612-1.182-2.393-1.319-2.841-1.319h-15.5c-1.378 0-2.5 1.121-2.5 2.5v27c0 1.378 1.122 2.5 2.5 2.5h23c1.378 0 2.5-1.122 2.5-2.5v-19.5c0-0.448-0.137-1.23-1.319-2.841zM24.543 5.457c0.959 0.959 1.712 1.825 2.268 2.543h-4.811v-4.811c0.718 0.556 1.584 1.309 2.543 2.268zM28 29.5c0 0.271-0.229 0.5-0.5 0.5h-23c-0.271 0-0.5-0.229-0.5-0.5v-27c0-0.271 0.229-0.5 0.5-0.5 0 0 15.499-0 15.5 0v7c0 0.552 0.448 1 1 1h7v19.5z\"></path>\n",
       "<path d=\"M23 26h-14c-0.552 0-1-0.448-1-1s0.448-1 1-1h14c0.552 0 1 0.448 1 1s-0.448 1-1 1z\"></path>\n",
       "<path d=\"M23 22h-14c-0.552 0-1-0.448-1-1s0.448-1 1-1h14c0.552 0 1 0.448 1 1s-0.448 1-1 1z\"></path>\n",
       "<path d=\"M23 18h-14c-0.552 0-1-0.448-1-1s0.448-1 1-1h14c0.552 0 1 0.448 1 1s-0.448 1-1 1z\"></path>\n",
       "</symbol>\n",
       "</defs>\n",
       "</svg>\n",
       "<style>/* CSS stylesheet for displaying xarray objects in jupyterlab.\n",
       " *\n",
       " */\n",
       "\n",
       ":root {\n",
       "  --xr-font-color0: var(--jp-content-font-color0, rgba(0, 0, 0, 1));\n",
       "  --xr-font-color2: var(--jp-content-font-color2, rgba(0, 0, 0, 0.54));\n",
       "  --xr-font-color3: var(--jp-content-font-color3, rgba(0, 0, 0, 0.38));\n",
       "  --xr-border-color: var(--jp-border-color2, #e0e0e0);\n",
       "  --xr-disabled-color: var(--jp-layout-color3, #bdbdbd);\n",
       "  --xr-background-color: var(--jp-layout-color0, white);\n",
       "  --xr-background-color-row-even: var(--jp-layout-color1, white);\n",
       "  --xr-background-color-row-odd: var(--jp-layout-color2, #eeeeee);\n",
       "}\n",
       "\n",
       "html[theme=dark],\n",
       "body.vscode-dark {\n",
       "  --xr-font-color0: rgba(255, 255, 255, 1);\n",
       "  --xr-font-color2: rgba(255, 255, 255, 0.54);\n",
       "  --xr-font-color3: rgba(255, 255, 255, 0.38);\n",
       "  --xr-border-color: #1F1F1F;\n",
       "  --xr-disabled-color: #515151;\n",
       "  --xr-background-color: #111111;\n",
       "  --xr-background-color-row-even: #111111;\n",
       "  --xr-background-color-row-odd: #313131;\n",
       "}\n",
       "\n",
       ".xr-wrap {\n",
       "  display: block !important;\n",
       "  min-width: 300px;\n",
       "  max-width: 700px;\n",
       "}\n",
       "\n",
       ".xr-text-repr-fallback {\n",
       "  /* fallback to plain text repr when CSS is not injected (untrusted notebook) */\n",
       "  display: none;\n",
       "}\n",
       "\n",
       ".xr-header {\n",
       "  padding-top: 6px;\n",
       "  padding-bottom: 6px;\n",
       "  margin-bottom: 4px;\n",
       "  border-bottom: solid 1px var(--xr-border-color);\n",
       "}\n",
       "\n",
       ".xr-header > div,\n",
       ".xr-header > ul {\n",
       "  display: inline;\n",
       "  margin-top: 0;\n",
       "  margin-bottom: 0;\n",
       "}\n",
       "\n",
       ".xr-obj-type,\n",
       ".xr-array-name {\n",
       "  margin-left: 2px;\n",
       "  margin-right: 10px;\n",
       "}\n",
       "\n",
       ".xr-obj-type {\n",
       "  color: var(--xr-font-color2);\n",
       "}\n",
       "\n",
       ".xr-sections {\n",
       "  padding-left: 0 !important;\n",
       "  display: grid;\n",
       "  grid-template-columns: 150px auto auto 1fr 20px 20px;\n",
       "}\n",
       "\n",
       ".xr-section-item {\n",
       "  display: contents;\n",
       "}\n",
       "\n",
       ".xr-section-item input {\n",
       "  display: none;\n",
       "}\n",
       "\n",
       ".xr-section-item input + label {\n",
       "  color: var(--xr-disabled-color);\n",
       "}\n",
       "\n",
       ".xr-section-item input:enabled + label {\n",
       "  cursor: pointer;\n",
       "  color: var(--xr-font-color2);\n",
       "}\n",
       "\n",
       ".xr-section-item input:enabled + label:hover {\n",
       "  color: var(--xr-font-color0);\n",
       "}\n",
       "\n",
       ".xr-section-summary {\n",
       "  grid-column: 1;\n",
       "  color: var(--xr-font-color2);\n",
       "  font-weight: 500;\n",
       "}\n",
       "\n",
       ".xr-section-summary > span {\n",
       "  display: inline-block;\n",
       "  padding-left: 0.5em;\n",
       "}\n",
       "\n",
       ".xr-section-summary-in:disabled + label {\n",
       "  color: var(--xr-font-color2);\n",
       "}\n",
       "\n",
       ".xr-section-summary-in + label:before {\n",
       "  display: inline-block;\n",
       "  content: '►';\n",
       "  font-size: 11px;\n",
       "  width: 15px;\n",
       "  text-align: center;\n",
       "}\n",
       "\n",
       ".xr-section-summary-in:disabled + label:before {\n",
       "  color: var(--xr-disabled-color);\n",
       "}\n",
       "\n",
       ".xr-section-summary-in:checked + label:before {\n",
       "  content: '▼';\n",
       "}\n",
       "\n",
       ".xr-section-summary-in:checked + label > span {\n",
       "  display: none;\n",
       "}\n",
       "\n",
       ".xr-section-summary,\n",
       ".xr-section-inline-details {\n",
       "  padding-top: 4px;\n",
       "  padding-bottom: 4px;\n",
       "}\n",
       "\n",
       ".xr-section-inline-details {\n",
       "  grid-column: 2 / -1;\n",
       "}\n",
       "\n",
       ".xr-section-details {\n",
       "  display: none;\n",
       "  grid-column: 1 / -1;\n",
       "  margin-bottom: 5px;\n",
       "}\n",
       "\n",
       ".xr-section-summary-in:checked ~ .xr-section-details {\n",
       "  display: contents;\n",
       "}\n",
       "\n",
       ".xr-array-wrap {\n",
       "  grid-column: 1 / -1;\n",
       "  display: grid;\n",
       "  grid-template-columns: 20px auto;\n",
       "}\n",
       "\n",
       ".xr-array-wrap > label {\n",
       "  grid-column: 1;\n",
       "  vertical-align: top;\n",
       "}\n",
       "\n",
       ".xr-preview {\n",
       "  color: var(--xr-font-color3);\n",
       "}\n",
       "\n",
       ".xr-array-preview,\n",
       ".xr-array-data {\n",
       "  padding: 0 5px !important;\n",
       "  grid-column: 2;\n",
       "}\n",
       "\n",
       ".xr-array-data,\n",
       ".xr-array-in:checked ~ .xr-array-preview {\n",
       "  display: none;\n",
       "}\n",
       "\n",
       ".xr-array-in:checked ~ .xr-array-data,\n",
       ".xr-array-preview {\n",
       "  display: inline-block;\n",
       "}\n",
       "\n",
       ".xr-dim-list {\n",
       "  display: inline-block !important;\n",
       "  list-style: none;\n",
       "  padding: 0 !important;\n",
       "  margin: 0;\n",
       "}\n",
       "\n",
       ".xr-dim-list li {\n",
       "  display: inline-block;\n",
       "  padding: 0;\n",
       "  margin: 0;\n",
       "}\n",
       "\n",
       ".xr-dim-list:before {\n",
       "  content: '(';\n",
       "}\n",
       "\n",
       ".xr-dim-list:after {\n",
       "  content: ')';\n",
       "}\n",
       "\n",
       ".xr-dim-list li:not(:last-child):after {\n",
       "  content: ',';\n",
       "  padding-right: 5px;\n",
       "}\n",
       "\n",
       ".xr-has-index {\n",
       "  font-weight: bold;\n",
       "}\n",
       "\n",
       ".xr-var-list,\n",
       ".xr-var-item {\n",
       "  display: contents;\n",
       "}\n",
       "\n",
       ".xr-var-item > div,\n",
       ".xr-var-item label,\n",
       ".xr-var-item > .xr-var-name span {\n",
       "  background-color: var(--xr-background-color-row-even);\n",
       "  margin-bottom: 0;\n",
       "}\n",
       "\n",
       ".xr-var-item > .xr-var-name:hover span {\n",
       "  padding-right: 5px;\n",
       "}\n",
       "\n",
       ".xr-var-list > li:nth-child(odd) > div,\n",
       ".xr-var-list > li:nth-child(odd) > label,\n",
       ".xr-var-list > li:nth-child(odd) > .xr-var-name span {\n",
       "  background-color: var(--xr-background-color-row-odd);\n",
       "}\n",
       "\n",
       ".xr-var-name {\n",
       "  grid-column: 1;\n",
       "}\n",
       "\n",
       ".xr-var-dims {\n",
       "  grid-column: 2;\n",
       "}\n",
       "\n",
       ".xr-var-dtype {\n",
       "  grid-column: 3;\n",
       "  text-align: right;\n",
       "  color: var(--xr-font-color2);\n",
       "}\n",
       "\n",
       ".xr-var-preview {\n",
       "  grid-column: 4;\n",
       "}\n",
       "\n",
       ".xr-var-name,\n",
       ".xr-var-dims,\n",
       ".xr-var-dtype,\n",
       ".xr-preview,\n",
       ".xr-attrs dt {\n",
       "  white-space: nowrap;\n",
       "  overflow: hidden;\n",
       "  text-overflow: ellipsis;\n",
       "  padding-right: 10px;\n",
       "}\n",
       "\n",
       ".xr-var-name:hover,\n",
       ".xr-var-dims:hover,\n",
       ".xr-var-dtype:hover,\n",
       ".xr-attrs dt:hover {\n",
       "  overflow: visible;\n",
       "  width: auto;\n",
       "  z-index: 1;\n",
       "}\n",
       "\n",
       ".xr-var-attrs,\n",
       ".xr-var-data {\n",
       "  display: none;\n",
       "  background-color: var(--xr-background-color) !important;\n",
       "  padding-bottom: 5px !important;\n",
       "}\n",
       "\n",
       ".xr-var-attrs-in:checked ~ .xr-var-attrs,\n",
       ".xr-var-data-in:checked ~ .xr-var-data {\n",
       "  display: block;\n",
       "}\n",
       "\n",
       ".xr-var-data > table {\n",
       "  float: right;\n",
       "}\n",
       "\n",
       ".xr-var-name span,\n",
       ".xr-var-data,\n",
       ".xr-attrs {\n",
       "  padding-left: 25px !important;\n",
       "}\n",
       "\n",
       ".xr-attrs,\n",
       ".xr-var-attrs,\n",
       ".xr-var-data {\n",
       "  grid-column: 1 / -1;\n",
       "}\n",
       "\n",
       "dl.xr-attrs {\n",
       "  padding: 0;\n",
       "  margin: 0;\n",
       "  display: grid;\n",
       "  grid-template-columns: 125px auto;\n",
       "}\n",
       "\n",
       ".xr-attrs dt,\n",
       ".xr-attrs dd {\n",
       "  padding: 0;\n",
       "  margin: 0;\n",
       "  float: left;\n",
       "  padding-right: 10px;\n",
       "  width: auto;\n",
       "}\n",
       "\n",
       ".xr-attrs dt {\n",
       "  font-weight: normal;\n",
       "  grid-column: 1;\n",
       "}\n",
       "\n",
       ".xr-attrs dt:hover span {\n",
       "  display: inline-block;\n",
       "  background: var(--xr-background-color);\n",
       "  padding-right: 10px;\n",
       "}\n",
       "\n",
       ".xr-attrs dd {\n",
       "  grid-column: 2;\n",
       "  white-space: pre-wrap;\n",
       "  word-break: break-all;\n",
       "}\n",
       "\n",
       ".xr-icon-database,\n",
       ".xr-icon-file-text2 {\n",
       "  display: inline-block;\n",
       "  vertical-align: middle;\n",
       "  width: 1em;\n",
       "  height: 1.5em !important;\n",
       "  stroke-width: 0;\n",
       "  stroke: currentColor;\n",
       "  fill: currentColor;\n",
       "}\n",
       "</style><pre class='xr-text-repr-fallback'>&lt;xarray.DataArray &#x27;model&#x27; (model: 20)&gt;\n",
       "array([&#x27;ACCESS-CM2&#x27;, &#x27;ACCESS-ESM1-5&#x27;, &#x27;BCC-CSM2-MR&#x27;, &#x27;CanESM5&#x27;, &#x27;EC-Earth3&#x27;,\n",
       "       &#x27;EC-Earth3-Veg&#x27;, &#x27;FGOALS-g3&#x27;, &#x27;GFDL-CM4&#x27;, &#x27;GFDL-ESM4&#x27;, &#x27;INM-CM4-8&#x27;,\n",
       "       &#x27;INM-CM5-0&#x27;, &#x27;KACE-1-0-G&#x27;, &#x27;KIOST-ESM&#x27;, &#x27;MIROC6&#x27;, &#x27;MPI-ESM1-2-HR&#x27;,\n",
       "       &#x27;MPI-ESM1-2-LR&#x27;, &#x27;MRI-ESM2-0&#x27;, &#x27;NESM3&#x27;, &#x27;NorESM2-LM&#x27;, &#x27;NorESM2-MM&#x27;],\n",
       "      dtype=object)\n",
       "Coordinates:\n",
       "  * model    (model) object &#x27;ACCESS-CM2&#x27; &#x27;ACCESS-ESM1-5&#x27; ... &#x27;NorESM2-MM&#x27;</pre><div class='xr-wrap' style='display:none'><div class='xr-header'><div class='xr-obj-type'>xarray.DataArray</div><div class='xr-array-name'>'model'</div><ul class='xr-dim-list'><li><span class='xr-has-index'>model</span>: 20</li></ul></div><ul class='xr-sections'><li class='xr-section-item'><div class='xr-array-wrap'><input id='section-417cc490-46de-47f7-9b98-bb7ba01259e9' class='xr-array-in' type='checkbox' checked><label for='section-417cc490-46de-47f7-9b98-bb7ba01259e9' title='Show/hide data repr'><svg class='icon xr-icon-database'><use xlink:href='#icon-database'></use></svg></label><div class='xr-array-preview xr-preview'><span>&#x27;ACCESS-CM2&#x27; &#x27;ACCESS-ESM1-5&#x27; ... &#x27;NorESM2-LM&#x27; &#x27;NorESM2-MM&#x27;</span></div><div class='xr-array-data'><pre>array([&#x27;ACCESS-CM2&#x27;, &#x27;ACCESS-ESM1-5&#x27;, &#x27;BCC-CSM2-MR&#x27;, &#x27;CanESM5&#x27;, &#x27;EC-Earth3&#x27;,\n",
       "       &#x27;EC-Earth3-Veg&#x27;, &#x27;FGOALS-g3&#x27;, &#x27;GFDL-CM4&#x27;, &#x27;GFDL-ESM4&#x27;, &#x27;INM-CM4-8&#x27;,\n",
       "       &#x27;INM-CM5-0&#x27;, &#x27;KACE-1-0-G&#x27;, &#x27;KIOST-ESM&#x27;, &#x27;MIROC6&#x27;, &#x27;MPI-ESM1-2-HR&#x27;,\n",
       "       &#x27;MPI-ESM1-2-LR&#x27;, &#x27;MRI-ESM2-0&#x27;, &#x27;NESM3&#x27;, &#x27;NorESM2-LM&#x27;, &#x27;NorESM2-MM&#x27;],\n",
       "      dtype=object)</pre></div></div></li><li class='xr-section-item'><input id='section-4e4b30a8-01f9-4f1e-8115-d8a4fab85859' class='xr-section-summary-in' type='checkbox'  checked><label for='section-4e4b30a8-01f9-4f1e-8115-d8a4fab85859' class='xr-section-summary' >Coordinates: <span>(1)</span></label><div class='xr-section-inline-details'></div><div class='xr-section-details'><ul class='xr-var-list'><li class='xr-var-item'><div class='xr-var-name'><span class='xr-has-index'>model</span></div><div class='xr-var-dims'>(model)</div><div class='xr-var-dtype'>object</div><div class='xr-var-preview xr-preview'>&#x27;ACCESS-CM2&#x27; ... &#x27;NorESM2-MM&#x27;</div><input id='attrs-aca52816-bf3a-41c6-b48b-0db790fe1bc3' class='xr-var-attrs-in' type='checkbox' disabled><label for='attrs-aca52816-bf3a-41c6-b48b-0db790fe1bc3' title='Show/Hide attributes'><svg class='icon xr-icon-file-text2'><use xlink:href='#icon-file-text2'></use></svg></label><input id='data-156a344c-11e2-457a-986f-3a353bd91912' class='xr-var-data-in' type='checkbox'><label for='data-156a344c-11e2-457a-986f-3a353bd91912' title='Show/Hide data repr'><svg class='icon xr-icon-database'><use xlink:href='#icon-database'></use></svg></label><div class='xr-var-attrs'><dl class='xr-attrs'></dl></div><div class='xr-var-data'><pre>array([&#x27;ACCESS-CM2&#x27;, &#x27;ACCESS-ESM1-5&#x27;, &#x27;BCC-CSM2-MR&#x27;, &#x27;CanESM5&#x27;, &#x27;EC-Earth3&#x27;,\n",
       "       &#x27;EC-Earth3-Veg&#x27;, &#x27;FGOALS-g3&#x27;, &#x27;GFDL-CM4&#x27;, &#x27;GFDL-ESM4&#x27;, &#x27;INM-CM4-8&#x27;,\n",
       "       &#x27;INM-CM5-0&#x27;, &#x27;KACE-1-0-G&#x27;, &#x27;KIOST-ESM&#x27;, &#x27;MIROC6&#x27;, &#x27;MPI-ESM1-2-HR&#x27;,\n",
       "       &#x27;MPI-ESM1-2-LR&#x27;, &#x27;MRI-ESM2-0&#x27;, &#x27;NESM3&#x27;, &#x27;NorESM2-LM&#x27;, &#x27;NorESM2-MM&#x27;],\n",
       "      dtype=object)</pre></div></li></ul></div></li><li class='xr-section-item'><input id='section-4235c48b-dcfa-41e1-a835-6f3b38623302' class='xr-section-summary-in' type='checkbox' disabled ><label for='section-4235c48b-dcfa-41e1-a835-6f3b38623302' class='xr-section-summary'  title='Expand/collapse section'>Attributes: <span>(0)</span></label><div class='xr-section-inline-details'></div><div class='xr-section-details'><dl class='xr-attrs'></dl></div></li></ul></div></div>"
      ],
      "text/plain": [
       "<xarray.DataArray 'model' (model: 20)>\n",
       "array(['ACCESS-CM2', 'ACCESS-ESM1-5', 'BCC-CSM2-MR', 'CanESM5', 'EC-Earth3',\n",
       "       'EC-Earth3-Veg', 'FGOALS-g3', 'GFDL-CM4', 'GFDL-ESM4', 'INM-CM4-8',\n",
       "       'INM-CM5-0', 'KACE-1-0-G', 'KIOST-ESM', 'MIROC6', 'MPI-ESM1-2-HR',\n",
       "       'MPI-ESM1-2-LR', 'MRI-ESM2-0', 'NESM3', 'NorESM2-LM', 'NorESM2-MM'],\n",
       "      dtype=object)\n",
       "Coordinates:\n",
       "  * model    (model) object 'ACCESS-CM2' 'ACCESS-ESM1-5' ... 'NorESM2-MM'"
      ]
     },
     "execution_count": 3,
     "metadata": {},
     "output_type": "execute_result"
    }
   ],
   "source": [
    "EP_regressions.model"
   ]
  },
  {
   "cell_type": "code",
   "execution_count": 7,
   "id": "12d54099",
   "metadata": {},
   "outputs": [],
   "source": [
    "E_regressions_new = []\n",
    "for m in E_regressions.model:\n",
    "    if E_regressions.sel(model=m).sel(lat=-0.75).sel(lon=222) < 0:\n",
    "        E_regressions_new.append(E_regressions.sel(model=m)*-1)\n",
    "    else: E_regressions_new.append(E_regressions.sel(model=m))\n",
    "E_regressions_new = xr.concat(E_regressions_new, dim='model')"
   ]
  },
  {
   "cell_type": "code",
   "execution_count": 8,
   "id": "c41477d9",
   "metadata": {},
   "outputs": [],
   "source": [
    "C_regressions_new = []\n",
    "for m in C_regressions.model:\n",
    "    if C_regressions.sel(model=m).sel(lat=-0.75).sel(lon=222) < 0:\n",
    "        C_regressions_new.append(C_regressions.sel(model=m)*-1)\n",
    "    else: C_regressions_new.append(C_regressions.sel(model=m))\n",
    "C_regressions_new = xr.concat(C_regressions_new, dim='model')"
   ]
  },
  {
   "cell_type": "code",
   "execution_count": 9,
   "id": "e2ad193f",
   "metadata": {},
   "outputs": [],
   "source": [
    "EP_temp_list = []\n",
    "for m in EP_regressions.model:\n",
    "    EP_temp_list.append(func.pattern_cor(EP_regressions.sel(model=m), E_regressions_new.sel(model=m)))"
   ]
  },
  {
   "cell_type": "code",
   "execution_count": 14,
   "id": "f40b2a6d",
   "metadata": {},
   "outputs": [],
   "source": [
    "CP_temp_list = []\n",
    "for m in CP_regressions.model:\n",
    "    CP_temp_list.append(func.pattern_cor(CP_regressions.sel(model=m), C_regressions_new.sel(model=m)))"
   ]
  },
  {
   "cell_type": "code",
   "execution_count": 43,
   "id": "769246ab",
   "metadata": {},
   "outputs": [
    {
     "data": {
      "text/plain": [
       "[0.6573136167122731,\n",
       " 0.940194925327003,\n",
       " 0.28579490945846553,\n",
       " 0.9130775690232492,\n",
       " 0.8658735993258748,\n",
       " 0.9306294519435171,\n",
       " 0.9849636299599196,\n",
       " 0.8692939025516263,\n",
       " 0.9038666600399641,\n",
       " 0.5702031157568704,\n",
       " 0.46598025370009327,\n",
       " 0.829099907909679,\n",
       " 0.9167297490376776,\n",
       " 0.9121453156858638,\n",
       " 0.9601627999324499,\n",
       " 0.9212112310055085,\n",
       " 0.623059769455371,\n",
       " 0.8354859996618045,\n",
       " 0.9854266691692972,\n",
       " 0.823611455650386]"
      ]
     },
     "execution_count": 43,
     "metadata": {},
     "output_type": "execute_result"
    }
   ],
   "source": [
    "EP_temp_list"
   ]
  },
  {
   "cell_type": "code",
   "execution_count": 21,
   "id": "389bd7cb",
   "metadata": {},
   "outputs": [],
   "source": [
    "# Investigate EP for BCC-CSM2-MR and CP for ACCESS-CM2 by region"
   ]
  },
  {
   "cell_type": "code",
   "execution_count": 22,
   "id": "afbfab30",
   "metadata": {},
   "outputs": [],
   "source": [
    "def group_by_lat(data, regions):\n",
    "    data_by_lat = []\n",
    "    for reg_name,reg_loc in regions.items():\n",
    "        data_sliced = data.sel(lat=reg_loc).rename(reg_name)\n",
    "        data_by_lat.append(data_sliced)\n",
    "    data_by_lat = xr.merge(data_by_lat)\n",
    "    return data_by_lat"
   ]
  },
  {
   "cell_type": "code",
   "execution_count": 23,
   "id": "47188b3f",
   "metadata": {},
   "outputs": [],
   "source": [
    "# Define the regions\n",
    "regions = {\n",
    "    \"Tropics\":slice(-23.5,23.5),\n",
    "    \"Subtropics_NH\":slice(23.5,35.5),\n",
    "    \"Subtropics_SH\":slice(-35.5, -23.5),\n",
    "    \"Mid_latitudes_NH\":slice(35.5, 66.5),\n",
    "    \"Mid_latitudes_SH\":slice(-66.5, -35.5),\n",
    "}"
   ]
  },
  {
   "cell_type": "code",
   "execution_count": 24,
   "id": "182ccb95",
   "metadata": {},
   "outputs": [],
   "source": [
    "BCC_grouped_EP = group_by_lat(EP_regressions.isel(model=2), regions)\n",
    "BCC_grouped_E = group_by_lat(E_regressions_new.isel(model=2), regions)"
   ]
  },
  {
   "cell_type": "code",
   "execution_count": 28,
   "id": "d04cc2ac",
   "metadata": {},
   "outputs": [],
   "source": [
    "tropics_cor = func.pattern_cor(BCC_grouped_EP.Tropics, BCC_grouped_E.Tropics)\n",
    "sub_trop_NH_cor = func.pattern_cor(BCC_grouped_EP.Subtropics_NH, BCC_grouped_E.Subtropics_NH)\n",
    "sub_trop_SH_cor = func.pattern_cor(BCC_grouped_EP.Subtropics_SH, BCC_grouped_E.Subtropics_SH)\n",
    "mid_lat_NH_cor = func.pattern_cor(BCC_grouped_EP.Mid_latitudes_NH, BCC_grouped_E.Mid_latitudes_NH)\n",
    "mid_lat_SH_cor = func.pattern_cor(BCC_grouped_EP.Mid_latitudes_SH, BCC_grouped_E.Mid_latitudes_SH)"
   ]
  },
  {
   "cell_type": "code",
   "execution_count": 32,
   "id": "34f149aa",
   "metadata": {},
   "outputs": [
    {
     "name": "stdout",
     "output_type": "stream",
     "text": [
      "0.840249067101317\n",
      "0.5409041284445492\n",
      "0.5021912723334994\n",
      "0.12177992541524141\n",
      "0.24342141360682581\n",
      "Sub tropics not great but mid lats the issue\n"
     ]
    }
   ],
   "source": [
    "print(tropics_cor)\n",
    "print(sub_trop_NH_cor)\n",
    "print(sub_trop_SH_cor)\n",
    "print(mid_lat_NH_cor)\n",
    "print(mid_lat_SH_cor)\n",
    "print('Sub tropics not great but mid lats the issue')"
   ]
  },
  {
   "cell_type": "code",
   "execution_count": 33,
   "id": "f2345ee9",
   "metadata": {},
   "outputs": [],
   "source": [
    "ACCESS_grouped_CP = group_by_lat(CP_regressions.isel(model=0), regions)\n",
    "ACCESS_grouped_C = group_by_lat(C_regressions_new.isel(model=0), regions)"
   ]
  },
  {
   "cell_type": "code",
   "execution_count": 34,
   "id": "6d5d3498",
   "metadata": {},
   "outputs": [],
   "source": [
    "tropics_cor = func.pattern_cor(ACCESS_grouped_CP.Tropics, ACCESS_grouped_C.Tropics)\n",
    "sub_trop_NH_cor = func.pattern_cor(ACCESS_grouped_CP.Subtropics_NH, ACCESS_grouped_C.Subtropics_NH)\n",
    "sub_trop_SH_cor = func.pattern_cor(ACCESS_grouped_CP.Subtropics_SH, ACCESS_grouped_C.Subtropics_SH)\n",
    "mid_lat_NH_cor = func.pattern_cor(ACCESS_grouped_CP.Mid_latitudes_NH, ACCESS_grouped_C.Mid_latitudes_NH)\n",
    "mid_lat_SH_cor = func.pattern_cor(ACCESS_grouped_CP.Mid_latitudes_SH, ACCESS_grouped_C.Mid_latitudes_SH)"
   ]
  },
  {
   "cell_type": "code",
   "execution_count": 38,
   "id": "c57d4d79",
   "metadata": {},
   "outputs": [
    {
     "name": "stdout",
     "output_type": "stream",
     "text": [
      "0.835500956645177\n",
      "0.8050988729799731\n",
      "0.865708437182591\n",
      "0.6019304296139593\n",
      "0.8329189486230395\n",
      "Dont know what the issue is here and why the overall correlation is so low. Needs further investigation\n"
     ]
    }
   ],
   "source": [
    "print(tropics_cor)\n",
    "print(sub_trop_NH_cor)\n",
    "print(sub_trop_SH_cor)\n",
    "print(mid_lat_NH_cor)\n",
    "print(mid_lat_SH_cor)\n",
    "print('Dont know what the issue is here and why the overall correlation is so low. Needs further investigation')"
   ]
  },
  {
   "cell_type": "code",
   "execution_count": 42,
   "id": "9bfcec5b",
   "metadata": {},
   "outputs": [
    {
     "data": {
      "text/html": [
       "<div>\n",
       "<style scoped>\n",
       "    .dataframe tbody tr th:only-of-type {\n",
       "        vertical-align: middle;\n",
       "    }\n",
       "\n",
       "    .dataframe tbody tr th {\n",
       "        vertical-align: top;\n",
       "    }\n",
       "\n",
       "    .dataframe thead th {\n",
       "        text-align: right;\n",
       "    }\n",
       "</style>\n",
       "<table border=\"1\" class=\"dataframe\">\n",
       "  <thead>\n",
       "    <tr style=\"text-align: right;\">\n",
       "      <th></th>\n",
       "      <th>Model</th>\n",
       "      <th>EP</th>\n",
       "      <th>CP</th>\n",
       "    </tr>\n",
       "  </thead>\n",
       "  <tbody>\n",
       "    <tr>\n",
       "      <th>0</th>\n",
       "      <td>ACCESS-CM2</td>\n",
       "      <td>0.657314</td>\n",
       "      <td>0.426122</td>\n",
       "    </tr>\n",
       "    <tr>\n",
       "      <th>1</th>\n",
       "      <td>ACCESS-ESM1-5</td>\n",
       "      <td>0.940195</td>\n",
       "      <td>0.958247</td>\n",
       "    </tr>\n",
       "    <tr>\n",
       "      <th>2</th>\n",
       "      <td>BCC-CSM2-MR</td>\n",
       "      <td>0.285795</td>\n",
       "      <td>0.973042</td>\n",
       "    </tr>\n",
       "    <tr>\n",
       "      <th>3</th>\n",
       "      <td>CanESM5</td>\n",
       "      <td>0.913078</td>\n",
       "      <td>0.983263</td>\n",
       "    </tr>\n",
       "    <tr>\n",
       "      <th>4</th>\n",
       "      <td>EC-Earth3</td>\n",
       "      <td>0.865874</td>\n",
       "      <td>0.908713</td>\n",
       "    </tr>\n",
       "  </tbody>\n",
       "</table>\n",
       "</div>"
      ],
      "text/plain": [
       "           Model        EP        CP\n",
       "0     ACCESS-CM2  0.657314  0.426122\n",
       "1  ACCESS-ESM1-5  0.940195  0.958247\n",
       "2    BCC-CSM2-MR  0.285795  0.973042\n",
       "3        CanESM5  0.913078  0.983263\n",
       "4      EC-Earth3  0.865874  0.908713"
      ]
     },
     "execution_count": 42,
     "metadata": {},
     "output_type": "execute_result"
    }
   ],
   "source": [
    "# Make pandas dataframe \n",
    "model_names = E_regressions.model.values\n",
    "names = list(model_names)\n",
    "\n",
    "pandas_data = []\n",
    "for i in np.arange(0,len(names)):\n",
    "    cell = [names[i], EP_temp_list[i], CP_temp_list[i]]\n",
    "    pandas_data.append(cell)\n",
    "    \n",
    "temp_df = pd.DataFrame(pandas_data, columns=['Model', 'EP', 'CP'])\n",
    "temp_df.head()"
   ]
  },
  {
   "cell_type": "code",
   "execution_count": 46,
   "id": "7173217c",
   "metadata": {},
   "outputs": [
    {
     "data": {
      "text/plain": [
       "Text(0.5, 1.0, 'TEMP NINO vs EOF')"
      ]
     },
     "execution_count": 46,
     "metadata": {},
     "output_type": "execute_result"
    },
    {
     "data": {
      "image/png": "[encoded data removed]",
      "text/plain": [
       "<Figure size 1080x216 with 1 Axes>"
      ]
     },
     "metadata": {
      "needs_background": "light"
     },
     "output_type": "display_data"
    }
   ],
   "source": [
    "temp_df.plot(x='Model', kind='bar', stacked=False, figsize=(15,3))\n",
    "plt.legend(loc=(1.01,0.7))\n",
    "plt.title('TEMP NINO vs EOF')"
   ]
  },
  {
   "cell_type": "code",
   "execution_count": 48,
   "id": "2793988c",
   "metadata": {},
   "outputs": [
    {
     "data": {
      "text/plain": [
       "Text(0.5, 1.0, 'TEMP NINO vs EOF')"
      ]
     },
     "execution_count": 48,
     "metadata": {},
     "output_type": "execute_result"
    },
    {
     "data": {
      "image/png": "[encoded data removed]",
      "text/plain": [
       "<Figure size 432x288 with 1 Axes>"
      ]
     },
     "metadata": {
      "needs_background": "light"
     },
     "output_type": "display_data"
    }
   ],
   "source": [
    "temp_df.boxplot(column=['EP', 'CP'])\n",
    "plt.title('TEMP NINO vs EOF')"
   ]
  },
  {
   "cell_type": "code",
   "execution_count": 50,
   "id": "6b50e44e",
   "metadata": {},
   "outputs": [],
   "source": [
    "EP_regressions = xr.open_dataarray('/g/data/w40/rl5183/CMIP6_20_EP_pr_regressions')\n",
    "CP_regressions = xr.open_dataarray('/g/data/w40/rl5183/CMIP6_20_CP_pr_regressions')\n",
    "E_regressions = xr.open_dataarray('/g/data/w40/rl5183/CMIP6_20_E_pr_regressions')\n",
    "C_regressions = xr.open_dataarray('/g/data/w40/rl5183/CMIP6_20_C_pr_regressions')"
   ]
  },
  {
   "cell_type": "code",
   "execution_count": 51,
   "id": "9feb2acc",
   "metadata": {},
   "outputs": [],
   "source": [
    "E_regressions_new = []\n",
    "for m in E_regressions.model:\n",
    "    if m == 'ACCESS-CM2' or m == 'BCC-CSM2-MR' or m == 'GFDL-ESM4' or m == 'INM-CM4-8' or m == 'INM-CM5-0' or m == 'KACE-1-0-G' or m == 'MIROC6' or m == 'MPI-ESM1-2-HR' or m == 'MRI-ESM2-0' or m == 'NorESM2-LM' or m == 'NorESM2-MM':\n",
    "        E_regressions_new.append(E_regressions.sel(model=m)*-1)\n",
    "    else: E_regressions_new.append(E_regressions.sel(model=m))\n",
    "E_regressions_new = xr.concat(E_regressions_new, dim='model')"
   ]
  },
  {
   "cell_type": "code",
   "execution_count": 52,
   "id": "4caa45c4",
   "metadata": {},
   "outputs": [],
   "source": [
    "C_regressions_new = []\n",
    "for m in C_regressions.model:\n",
    "    if m == 'ACCESS-CM2' or m == 'BCC-CSM2-MR' or m == 'GFDL-ESM4' or m == 'INM-CM4-8' or m == 'INM-CM5-0' or m == 'KACE-1-0-G' or m == 'MIROC6' or m == 'MPI-ESM1-2-HR' or m == 'MRI-ESM2-0' or m == 'NorESM2-LM' or m == 'NorESM2-MM':\n",
    "        C_regressions_new.append(C_regressions.sel(model=m)*-1)\n",
    "    else: C_regressions_new.append(C_regressions.sel(model=m))\n",
    "C_regressions_new = xr.concat(C_regressions_new, dim='model')"
   ]
  },
  {
   "cell_type": "code",
   "execution_count": 53,
   "id": "565e6b7d",
   "metadata": {},
   "outputs": [],
   "source": [
    "EP_pr_list = []\n",
    "for m in EP_regressions.model:\n",
    "    EP_pr_list.append(func.pattern_cor(EP_regressions.sel(model=m), E_regressions_new.sel(model=m)))"
   ]
  },
  {
   "cell_type": "code",
   "execution_count": 54,
   "id": "53300bd2",
   "metadata": {},
   "outputs": [],
   "source": [
    "CP_pr_list = []\n",
    "for m in CP_regressions.model:\n",
    "    CP_pr_list.append(func.pattern_cor(CP_regressions.sel(model=m), C_regressions_new.sel(model=m)))"
   ]
  },
  {
   "cell_type": "code",
   "execution_count": 56,
   "id": "94391cde",
   "metadata": {},
   "outputs": [
    {
     "data": {
      "text/html": [
       "<div>\n",
       "<style scoped>\n",
       "    .dataframe tbody tr th:only-of-type {\n",
       "        vertical-align: middle;\n",
       "    }\n",
       "\n",
       "    .dataframe tbody tr th {\n",
       "        vertical-align: top;\n",
       "    }\n",
       "\n",
       "    .dataframe thead th {\n",
       "        text-align: right;\n",
       "    }\n",
       "</style>\n",
       "<table border=\"1\" class=\"dataframe\">\n",
       "  <thead>\n",
       "    <tr style=\"text-align: right;\">\n",
       "      <th></th>\n",
       "      <th>Model</th>\n",
       "      <th>EP</th>\n",
       "      <th>CP</th>\n",
       "    </tr>\n",
       "  </thead>\n",
       "  <tbody>\n",
       "    <tr>\n",
       "      <th>0</th>\n",
       "      <td>ACCESS-CM2</td>\n",
       "      <td>0.896120</td>\n",
       "      <td>0.851526</td>\n",
       "    </tr>\n",
       "    <tr>\n",
       "      <th>1</th>\n",
       "      <td>ACCESS-ESM1-5</td>\n",
       "      <td>0.969157</td>\n",
       "      <td>0.989441</td>\n",
       "    </tr>\n",
       "    <tr>\n",
       "      <th>2</th>\n",
       "      <td>BCC-CSM2-MR</td>\n",
       "      <td>0.729247</td>\n",
       "      <td>0.985977</td>\n",
       "    </tr>\n",
       "    <tr>\n",
       "      <th>3</th>\n",
       "      <td>CanESM5</td>\n",
       "      <td>0.976365</td>\n",
       "      <td>0.989653</td>\n",
       "    </tr>\n",
       "    <tr>\n",
       "      <th>4</th>\n",
       "      <td>EC-Earth3</td>\n",
       "      <td>0.982342</td>\n",
       "      <td>0.977989</td>\n",
       "    </tr>\n",
       "  </tbody>\n",
       "</table>\n",
       "</div>"
      ],
      "text/plain": [
       "           Model        EP        CP\n",
       "0     ACCESS-CM2  0.896120  0.851526\n",
       "1  ACCESS-ESM1-5  0.969157  0.989441\n",
       "2    BCC-CSM2-MR  0.729247  0.985977\n",
       "3        CanESM5  0.976365  0.989653\n",
       "4      EC-Earth3  0.982342  0.977989"
      ]
     },
     "execution_count": 56,
     "metadata": {},
     "output_type": "execute_result"
    }
   ],
   "source": [
    "# Make pandas dataframe \n",
    "model_names = E_regressions.model.values\n",
    "names = list(model_names)\n",
    "\n",
    "pandas_data = []\n",
    "for i in np.arange(0,len(names)):\n",
    "    cell = [names[i], EP_pr_list[i], CP_pr_list[i]]\n",
    "    pandas_data.append(cell)\n",
    "    \n",
    "pr_df = pd.DataFrame(pandas_data, columns=['Model', 'EP', 'CP'])\n",
    "pr_df.head()"
   ]
  },
  {
   "cell_type": "code",
   "execution_count": 57,
   "id": "0bf840c2",
   "metadata": {},
   "outputs": [
    {
     "data": {
      "text/plain": [
       "Text(0.5, 1.0, 'TEMP NINO vs EOF')"
      ]
     },
     "execution_count": 57,
     "metadata": {},
     "output_type": "execute_result"
    },
    {
     "data": {
      "image/png": "[encoded data removed]",
      "text/plain": [
       "<Figure size 1080x216 with 1 Axes>"
      ]
     },
     "metadata": {
      "needs_background": "light"
     },
     "output_type": "display_data"
    }
   ],
   "source": [
    "pr_df.plot(x='Model', kind='bar', stacked=False, figsize=(15,3))\n",
    "plt.legend(loc=(1.01,0.7))\n",
    "plt.title('PRECIP NINO vs EOF')"
   ]
  },
  {
   "cell_type": "code",
   "execution_count": 59,
   "id": "3a2f2a40",
   "metadata": {},
   "outputs": [
    {
     "data": {
      "text/plain": [
       "Text(0.5, 1.0, 'TEMP NINO vs EOF')"
      ]
     },
     "execution_count": 59,
     "metadata": {},
     "output_type": "execute_result"
    },
    {
     "data": {
      "image/png": "[encoded data removed]",
      "text/plain": [
       "<Figure size 432x288 with 1 Axes>"
      ]
     },
     "metadata": {
      "needs_background": "light"
     },
     "output_type": "display_data"
    }
   ],
   "source": [
    "pr_df.boxplot(column=['EP', 'CP'])\n",
    "plt.title('PRECIP NINO vs EOF')"
   ]
  },
  {
   "cell_type": "markdown",
   "id": "0b6da14e",
   "metadata": {},
   "source": [
    "### Only seems to be issues with models that have poor ENSO e.g., INM x2. Need to look into BCC as that hasn't performed that well across both these tests. Maybe it's a problem with the model rather than the teleconnections? Not sure what is going on with ACCESS temperature??? But generally happy with results. Still seems to be no major differences in spatial patterns of teleconnections based off choice of method. "
   ]
  },
  {
   "cell_type": "markdown",
   "id": "04772573",
   "metadata": {},
   "source": [
    "#### Can use spatial pattern results as population to do a t-test? Is that even useful? "
   ]
  },
  {
   "cell_type": "code",
   "execution_count": null,
   "id": "1ad4aeb0",
   "metadata": {},
   "outputs": [],
   "source": []
  }
 ],
 "metadata": {
  "kernelspec": {
   "display_name": "Python 3 (ipykernel)",
   "language": "python",
   "name": "python3"
  },
  "language_info": {
   "codemirror_mode": {
    "name": "ipython",
    "version": 3
   },
   "file_extension": ".py",
   "mimetype": "text/x-python",
   "name": "python",
   "nbconvert_exporter": "python",
   "pygments_lexer": "ipython3",
   "version": "3.9.13"
  }
 },
 "nbformat": 4,
 "nbformat_minor": 5
}
