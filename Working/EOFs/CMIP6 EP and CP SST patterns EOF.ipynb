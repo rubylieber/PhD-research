{
 "cells": [
  {
   "cell_type": "code",
   "execution_count": 15,
   "id": "e11e948b",
   "metadata": {},
   "outputs": [],
   "source": [
    "import xarray as xr\n",
    "import numpy as np\n",
    "import pandas as pd\n",
    "import sys\n",
    "sys.path.append('/home/563/rl5183/PhD-research/Functions')\n",
    "import functions as func\n",
    "import matplotlib.pyplot as plt\n",
    "import cartopy.crs as ccrs\n",
    "from cartopy.mpl.gridliner import LONGITUDE_FORMATTER, LATITUDE_FORMATTER"
   ]
  },
  {
   "cell_type": "code",
   "execution_count": null,
   "id": "1506603a",
   "metadata": {},
   "outputs": [],
   "source": [
    "# Open quatratically detrended ts data for the 20 CMIP6 models \n",
    "data = xr.open_dataarray('/g/data/w40/rl5183/CMIP6_20_ts_quad_detrend_1900_2015.nc')"
   ]
  },
  {
   "cell_type": "code",
   "execution_count": 3,
   "id": "d47f2cc2",
   "metadata": {},
   "outputs": [
    {
     "name": "stderr",
     "output_type": "stream",
     "text": [
      "/g/data/hh5/public/apps/miniconda3/envs/analysis3-22.04/lib/python3.9/site-packages/xarray/coding/times.py:144: SerializationWarning: Ambiguous reference date string: 1-1-1 0:0:0. The first value is assumed to be the year hence will be padded with zeros to remove the ambiguity (the padded reference date string is: 0001-1-1 0:0:0). To remove this message, remove the ambiguity by padding your reference date strings with zeros.\n",
      "  warnings.warn(warning_msg, SerializationWarning)\n",
      "/g/data/hh5/public/apps/miniconda3/envs/analysis3-22.04/lib/python3.9/site-packages/xarray/coding/times.py:673: SerializationWarning: Unable to decode time axis into full numpy.datetime64 objects, continuing using cftime.datetime objects instead, reason: dates out of range\n",
      "  dtype = _decode_cf_datetime_dtype(data, units, calendar, self.use_cftime)\n",
      "/g/data/hh5/public/apps/miniconda3/envs/analysis3-22.04/lib/python3.9/site-packages/xarray/core/indexing.py:423: SerializationWarning: Unable to decode time axis into full numpy.datetime64 objects, continuing using cftime.datetime objects instead, reason: dates out of range\n",
      "  return np.asarray(array[self.key], dtype=None)\n"
     ]
    }
   ],
   "source": [
    "# Select out tropical Pacific region and apply land mask as only inyterested in SST pattern for now \n",
    "sst_region = data.sel(lat=slice(-15,15)).sel(lon=slice(140,280))\n",
    "#Landmask\n",
    "landmask_ds = xr.open_dataset('/g/data/eg3/pfd548/gridarea/land-sea_mask/fractional_land.1.5-deg.nc')\n",
    "landmask = landmask_ds.mean(dim='time')\n",
    "# Apply to tropical Pacific region \n",
    "sst_region = sst_region.where(landmask.data==0)"
   ]
  },
  {
   "cell_type": "code",
   "execution_count": 4,
   "id": "fbf51b5c",
   "metadata": {},
   "outputs": [],
   "source": [
    "# Calculate anomalies \n",
    "clims = sst_region.sel(time=slice('1979-01', '2008-12')).groupby('time.month').mean()\n",
    "anoms = sst_region.groupby('time.month') - clims"
   ]
  },
  {
   "cell_type": "code",
   "execution_count": 5,
   "id": "13ff7d91",
   "metadata": {},
   "outputs": [],
   "source": [
    "# Take DJF average\n",
    "quarterly_anoms = anoms.resample(time='QS-DEC').mean('time')\n",
    "djf_anoms = quarterly_anoms.isel(time=slice(0,None,4))"
   ]
  },
  {
   "cell_type": "code",
   "execution_count": 6,
   "id": "807a22e5",
   "metadata": {},
   "outputs": [],
   "source": [
    "# Read in PCs\n",
    "pcs = xr.open_dataarray('/g/data/w40/rl5183/CMIP6_20_pcs.nc')"
   ]
  },
  {
   "cell_type": "code",
   "execution_count": 7,
   "id": "00028060",
   "metadata": {},
   "outputs": [],
   "source": [
    "# Scale PCs to have a standard deviation of 1 \n",
    "# Flip EOF2 for model MPI-ESM1-2-HR as pattern correlation with HadISST is negative \n",
    "\n",
    "pc1 = pcs.sel(mode=1)\n",
    "pc2 = pcs.sel(mode=2)\n",
    "\n",
    "norm_1 = []\n",
    "for m in pc1.model:\n",
    "    norm_1.append(pc1.sel(model=m)/pc1.sel(model=m).std())\n",
    "    \n",
    "pc1 = xr.DataArray(norm_1, coords=pc1.coords, attrs=pc1.attrs)\n",
    "\n",
    "norm_2 = []\n",
    "for m in pc2.model:\n",
    "    if m == 'MPI-ESM1-2-HR':\n",
    "        norm_2.append(pc2.sel(model=m)*-1/pc2.sel(model=m).std())\n",
    "    else: norm_2.append(pc2.sel(model=m)/pc2.sel(model=m).std())\n",
    "    \n",
    "pc2 = xr.DataArray(norm_2, coords=pc2.coords, attrs=pc2.attrs)"
   ]
  },
  {
   "cell_type": "code",
   "execution_count": 8,
   "id": "7174dc28",
   "metadata": {},
   "outputs": [],
   "source": [
    "# Calculate E-index and C-index\n",
    "E = (pc1 - pc2)/np.sqrt(2)\n",
    "C = (pc1 + pc2)/np.sqrt(2)"
   ]
  },
  {
   "cell_type": "code",
   "execution_count": 9,
   "id": "23d2861f",
   "metadata": {},
   "outputs": [],
   "source": [
    "# Take DJF average of E-index and C-index\n",
    "quarterly_E = E.resample(time='QS-DEC').mean('time')\n",
    "djf_E = quarterly_E.isel(time=slice(0,None,4))\n",
    "\n",
    "quarterly_C = C.resample(time='QS-DEC').mean('time')\n",
    "djf_C = quarterly_C.isel(time=slice(0,None,4))"
   ]
  },
  {
   "cell_type": "code",
   "execution_count": 10,
   "id": "b19f8eb6",
   "metadata": {},
   "outputs": [],
   "source": [
    "# Linear regression of SST anomalies onto E-index and C-index\n",
    "E_regress_list = []\n",
    "C_regress_list = []\n",
    "for m in djf_anoms.model:\n",
    "    E_regress_list.append(func.regress_nino(djf_anoms.sel(model=m), djf_E.sel(model=m)))\n",
    "    C_regress_list.append(func.regress_nino(djf_anoms.sel(model=m), djf_C.sel(model=m)))"
   ]
  },
  {
   "cell_type": "code",
   "execution_count": 11,
   "id": "66d1b015",
   "metadata": {},
   "outputs": [],
   "source": [
    "E_regressions = xr.concat(E_regress_list, dim='model')\n",
    "C_regressions = xr.concat(C_regress_list, dim='model')"
   ]
  },
  {
   "cell_type": "code",
   "execution_count": null,
   "id": "794ab152",
   "metadata": {},
   "outputs": [],
   "source": [
    "fig = plt.figure(figsize=(20,7.5))\n",
    "axs = []\n",
    "\n",
    "columns = 4\n",
    "rows = 5\n",
    "\n",
    "for i, m in enumerate(E_regressions.model):\n",
    "    # Flip pattern so positive regression in tropical pacific\n",
    "    if E_regressions.sel(model=m).sel(lat=-0.75).sel(lon=222) < 0:\n",
    "        d = E_regressions.sel(model=m)*-1\n",
    "    else: d = E_regressions.sel(model=m)\n",
    "    # Plot \n",
    "    ax = fig.add_subplot(rows, columns, i+1, projection=ccrs.PlateCarree(180))\n",
    "    C = d.plot(ax=ax, add_colorbar=False, cmap='RdBu_r', transform=ccrs.PlateCarree())\n",
    "    ax.coastlines()\n",
    "    ax.set_title(f'{m.data}')\n",
    "    # Gather all axes for when we make the colour bar\n",
    "    axs.append(ax)\n",
    "    \n",
    "# Put the colour bar to the left of all axes\n",
    "cbar = plt.colorbar(C, ax=axs, shrink=0.5)\n",
    "\n",
    "plt.savefig('CMIP6_EP_SST_pattern_EOF', bbox_inches='tight', dpi=300)"
   ]
  },
  {
   "cell_type": "code",
   "execution_count": null,
   "id": "e09d1de6",
   "metadata": {},
   "outputs": [],
   "source": [
    "fig = plt.figure(figsize=(20,7.5))\n",
    "axs = []\n",
    "\n",
    "columns = 4\n",
    "rows = 5\n",
    "\n",
    "for i, m in enumerate(C_regressions.model):\n",
    "    # Flip pattern so positive regression in tropical pacific\n",
    "    if C_regressions.sel(model=m).sel(lat=-0.75).sel(lon=222) < 0:\n",
    "        d = C_regressions.sel(model=m)*-1\n",
    "    else: d = C_regressions.sel(model=m)\n",
    "    # Plot \n",
    "    ax = fig.add_subplot(rows, columns, i+1, projection=ccrs.PlateCarree(180))\n",
    "    C = d.plot(ax=ax, add_colorbar=False, cmap='RdBu_r', transform=ccrs.PlateCarree())\n",
    "    ax.coastlines()\n",
    "    ax.set_title(f'{m.data}')\n",
    "    # Gather all axes for when we make the colour bar\n",
    "    axs.append(ax)\n",
    "    \n",
    "# Put the colour bar to the left of all axes\n",
    "cbar = plt.colorbar(C, ax=axs, shrink=0.5)\n",
    "\n",
    "plt.savefig('CMIP6_CP_SST_pattern_EOF', bbox_inches='tight', dpi=300)"
   ]
  },
  {
   "cell_type": "code",
   "execution_count": 3,
   "id": "2c9bee19",
   "metadata": {},
   "outputs": [],
   "source": [
    "# Open HadISST \n",
    "sst_ds = xr.open_dataset('/g/data/w40/rl5183/hadisst.1870_2017_1.5x1.5.nc')\n",
    "sst = sst_ds.sst.sel(lat=slice(-15,15)).sel(lon=slice(140,280)).sel(time=slice('1900-01', '2014-12'))\n",
    "# Quadtratically Detrend \n",
    "sst_detrend = np.apply_along_axis(func.quad_detrend, 0, sst)\n",
    "sst_dt = xr.DataArray(sst_detrend, coords=sst.coords, attrs=sst.attrs)\n",
    "# Calculate anomalies \n",
    "clim = sst_dt.sel(time=slice('1979-01', '2008-12')).groupby('time.month').mean()\n",
    "anom = sst_dt.groupby('time.month') - clim\n",
    "# EOFs\n",
    "had_eof, had_pcs, had_var = func.eof_and_pcs(anom, 3)"
   ]
  },
  {
   "cell_type": "code",
   "execution_count": 4,
   "id": "c7a19b45",
   "metadata": {},
   "outputs": [],
   "source": [
    "# Take DJF averages of anoms \n",
    "quarterly_anom = anom.resample(time='QS-DEC').mean('time')\n",
    "djf_anom = quarterly_anom.isel(time=slice(0,None,4))"
   ]
  },
  {
   "cell_type": "code",
   "execution_count": 5,
   "id": "3fb0bf02",
   "metadata": {},
   "outputs": [],
   "source": [
    "# Scale PCs to have a standrd deviation of 1 \n",
    "had_pc1 = (had_pcs.sel(mode=1)/had_pcs.sel(mode=1).std())*-1\n",
    "had_pc2 = had_pcs.sel(mode=2)/had_pcs.sel(mode=2).std()"
   ]
  },
  {
   "cell_type": "code",
   "execution_count": 6,
   "id": "70af4853",
   "metadata": {},
   "outputs": [],
   "source": [
    "# Calculate E-index and C-index\n",
    "had_E = (had_pc1 - had_pc2)/np.sqrt(2)\n",
    "had_C = (had_pc1 + had_pc2)/np.sqrt(2)"
   ]
  },
  {
   "cell_type": "code",
   "execution_count": 7,
   "id": "499eff73",
   "metadata": {},
   "outputs": [],
   "source": [
    "# Take DJF average of E-index and C-index\n",
    "had_quarterly_E = had_E.resample(time='QS-DEC').mean('time')\n",
    "had_djf_E = had_quarterly_E.isel(time=slice(0,None,4))\n",
    "\n",
    "had_quarterly_C = had_C.resample(time='QS-DEC').mean('time')\n",
    "had_djf_C = had_quarterly_C.isel(time=slice(0,None,4))"
   ]
  },
  {
   "cell_type": "code",
   "execution_count": 8,
   "id": "8ea32b00",
   "metadata": {},
   "outputs": [],
   "source": [
    "#Normalise \n",
    "had_djf_E = had_djf_E/had_djf_E.std()\n",
    "had_djf_C = had_djf_C/had_djf_C.std()"
   ]
  },
  {
   "cell_type": "code",
   "execution_count": 9,
   "id": "0c010c5c",
   "metadata": {},
   "outputs": [],
   "source": [
    "E_regress_had = func.regress_nino(djf_anom, had_djf_E)\n",
    "C_regress_had = func.regress_nino(djf_anom, had_djf_C)"
   ]
  },
  {
   "cell_type": "code",
   "execution_count": 10,
   "id": "17b592c2",
   "metadata": {},
   "outputs": [],
   "source": [
    "%store -r EP_regress_had\n",
    "%store -r CP_regress_had"
   ]
  },
  {
   "cell_type": "code",
   "execution_count": 45,
   "id": "f6263ab1",
   "metadata": {},
   "outputs": [],
   "source": [
    "def format_gridlines(ax, top_labels=False, bottom_labels=False, left_labels=False, right_labels=False):\n",
    "    gl = ax.gridlines(crs=ccrs.PlateCarree(), draw_labels=True,\n",
    "                  linewidth=1, color='gray', alpha=0.75, linestyle='--')\n",
    "    gl.top_labels = top_labels\n",
    "    gl.bottom_labels = bottom_labels\n",
    "    gl.right_labels = right_labels\n",
    "    gl.left_labels = left_labels\n",
    "    gl.xformatter = LONGITUDE_FORMATTER\n",
    "    gl.yformatter = LATITUDE_FORMATTER\n",
    "    \n",
    "    return ax"
   ]
  },
  {
   "cell_type": "code",
   "execution_count": 48,
   "id": "c9f478bb",
   "metadata": {},
   "outputs": [
    {
     "data": {
      "image/png": "[encoded data removed]",
      "text/plain": [
       "<Figure size 1080x216 with 5 Axes>"
      ]
     },
     "metadata": {
      "needs_background": "light"
     },
     "output_type": "display_data"
    }
   ],
   "source": [
    "fig = plt.figure(figsize = (15,3)) \n",
    "axs = []\n",
    "\n",
    "ax = fig.add_subplot(221, projection=ccrs.PlateCarree(180))\n",
    "im = EP_regress_had.plot(ax=ax, vmin=-1, vmax=1, cmap=plt.cm.get_cmap('RdBu_r', 20), add_colorbar=False, transform=ccrs.PlateCarree())\n",
    "ax.coastlines()\n",
    "ax.set_title('EP (NINO)')\n",
    "ax = format_gridlines(ax, left_labels=True)\n",
    "axs.append(ax)\n",
    "\n",
    "\n",
    "ax = fig.add_subplot(222, projection=ccrs.PlateCarree(180))\n",
    "im = CP_regress_had.plot(ax=ax, vmin=-1, vmax=1, cmap=plt.cm.get_cmap('RdBu_r', 20), add_colorbar=False, transform=ccrs.PlateCarree())\n",
    "ax.coastlines()\n",
    "ax.set_title('CP (NINO)')\n",
    "ax = format_gridlines(ax)\n",
    "axs.append(ax)\n",
    "\n",
    "\n",
    "ax = fig.add_subplot(223, projection=ccrs.PlateCarree(180))\n",
    "im = E_regress_had.plot(ax=ax, vmin=-1, vmax=1, cmap=plt.cm.get_cmap('RdBu_r', 20), add_colorbar=False, transform=ccrs.PlateCarree())\n",
    "ax.coastlines()\n",
    "ax.set_title('EP (EOF)')\n",
    "ax = format_gridlines(ax, left_labels=True, bottom_labels=True)\n",
    "axs.append(ax)\n",
    "\n",
    "ax = fig.add_subplot(224, projection=ccrs.PlateCarree(180))\n",
    "im = C_regress_had.plot(ax=ax, vmin=-1, vmax=1, cmap=plt.cm.get_cmap('RdBu_r', 20), add_colorbar=False, transform=ccrs.PlateCarree())\n",
    "ax.coastlines()\n",
    "ax.set_title('CP (EOF)')\n",
    "ax = format_gridlines(ax, bottom_labels=True)\n",
    "axs.append(ax)\n",
    "\n",
    "# Colorbar \n",
    "cbar = plt.colorbar(im, ax=axs, shrink=0.75, pad=0.05)\n",
    "# Save fig\n",
    "plt.savefig('HadISST_EP_CP_SST_pattern_NINO_EOF', bbox_inches='tight', dpi=300)"
   ]
  },
  {
   "cell_type": "code",
   "execution_count": 8,
   "id": "8d59c803",
   "metadata": {},
   "outputs": [
    {
     "name": "stdout",
     "output_type": "stream",
     "text": [
      "Stored 'E_regress_had' (DataArray)\n",
      "Stored 'C_regress_had' (DataArray)\n"
     ]
    }
   ],
   "source": [
    "%store E_regress_had\n",
    "%store C_regress_had"
   ]
  },
  {
   "cell_type": "code",
   "execution_count": null,
   "id": "da233553",
   "metadata": {},
   "outputs": [],
   "source": [
    "fig = plt.figure(figsize = (15,2.5)) \n",
    "axs = []\n",
    "ax = fig.add_subplot(121, projection=ccrs.PlateCarree(180))\n",
    "im = E_regress_had.plot(ax=ax, add_colorbar=False, transform=ccrs.PlateCarree())\n",
    "ax.coastlines()\n",
    "ax.set_title('E')\n",
    "axs.append(ax)\n",
    "ax = fig.add_subplot(122, projection=ccrs.PlateCarree(180))\n",
    "im = C_regress_had.plot(ax=ax, add_colorbar=False, transform=ccrs.PlateCarree())\n",
    "ax.coastlines()\n",
    "ax.set_title('C')\n",
    "axs.append(ax)\n",
    "cbar = plt.colorbar(im, ax=axs, shrink=0.75, pad=0.05)\n",
    "\n",
    "#plt.savefig('HadISST_EP_CP_SST_pattern_EOF', bbox_inches='tight', dpi=300)"
   ]
  },
  {
   "cell_type": "code",
   "execution_count": 22,
   "id": "66817c26",
   "metadata": {},
   "outputs": [],
   "source": [
    "E_regressions_new = []\n",
    "for m in E_regressions.model:\n",
    "    if E_regressions.sel(model=m).sel(lat=-0.75).sel(lon=222) < 0:\n",
    "        E_regressions_new.append(E_regressions.sel(model=m)*-1)\n",
    "    else: E_regressions_new.append(E_regressions.sel(model=m))\n",
    "E_regressions_new = xr.concat(E_regressions_new, dim='model')"
   ]
  },
  {
   "cell_type": "code",
   "execution_count": 23,
   "id": "8127195b",
   "metadata": {},
   "outputs": [],
   "source": [
    "C_regressions_new = []\n",
    "for m in C_regressions.model:\n",
    "    if C_regressions.sel(model=m).sel(lat=-0.75).sel(lon=222) < 0:\n",
    "        C_regressions_new.append(C_regressions.sel(model=m)*-1)\n",
    "    else: C_regressions_new.append(C_regressions.sel(model=m))\n",
    "C_regressions_new = xr.concat(C_regressions_new, dim='model')"
   ]
  },
  {
   "cell_type": "code",
   "execution_count": 26,
   "id": "e535044e",
   "metadata": {},
   "outputs": [],
   "source": [
    "# Pattern Correlations\n",
    "E_pattern_cor = []\n",
    "for m in E_regressions.model:\n",
    "    E_pattern_cor.append(func.pattern_cor(E_regressions_new.sel(model=m), E_regress_had))\n",
    "    \n",
    "C_pattern_cor = []\n",
    "for m in C_regressions.model:\n",
    "    C_pattern_cor.append(func.pattern_cor(C_regressions_new.sel(model=m), C_regress_had))"
   ]
  },
  {
   "cell_type": "code",
   "execution_count": 27,
   "id": "e7df33ba",
   "metadata": {},
   "outputs": [],
   "source": [
    "had_EP_sst_eof = E_pattern_cor.copy()\n",
    "had_CP_sst_eof = C_pattern_cor.copy()"
   ]
  },
  {
   "cell_type": "code",
   "execution_count": 28,
   "id": "267af95d",
   "metadata": {},
   "outputs": [
    {
     "name": "stdout",
     "output_type": "stream",
     "text": [
      "Stored 'had_EP_sst_eof' (list)\n",
      "Stored 'had_CP_sst_eof' (list)\n"
     ]
    }
   ],
   "source": [
    "%store had_EP_sst_eof\n",
    "%store had_CP_sst_eof"
   ]
  },
  {
   "cell_type": "code",
   "execution_count": null,
   "id": "d426ff72",
   "metadata": {},
   "outputs": [],
   "source": [
    "# Make pandas dataframe \n",
    "model_names = data.model.values\n",
    "names = list(model_names)\n",
    "\n",
    "pandas_data = []\n",
    "for i in np.arange(0,len(names)):\n",
    "    cell = [names[i], np.absolute(E_pattern_cor[i]), np.absolute(C_pattern_cor[i])]\n",
    "    pandas_data.append(cell)\n",
    "    \n",
    "df = pd.DataFrame(pandas_data, columns=['Model', 'E', 'C'])\n",
    "df.head()"
   ]
  },
  {
   "cell_type": "code",
   "execution_count": null,
   "id": "de6feb44",
   "metadata": {},
   "outputs": [],
   "source": [
    "df.plot(x='Model', kind='bar', stacked=False, figsize=(15,3))\n",
    "plt.legend(loc=(1.01,0.7))\n",
    "plt.title('Pattern Correlation for EP and CP between models and HadISST (EOF based method)')\n",
    "plt.savefig('CMIP6_EP_CP_pattern_corr_EOF', bbox_inches='tight', dpi=300)"
   ]
  },
  {
   "cell_type": "code",
   "execution_count": null,
   "id": "cd54b74b",
   "metadata": {},
   "outputs": [],
   "source": [
    "# Rename df to pass to other notebook\n",
    "df_EOF = df.copy()"
   ]
  },
  {
   "cell_type": "code",
   "execution_count": null,
   "id": "e0407aae",
   "metadata": {},
   "outputs": [],
   "source": [
    "%store df_EOF"
   ]
  },
  {
   "cell_type": "markdown",
   "id": "5678528d",
   "metadata": {},
   "source": [
    "#### Location of Maximum Variability "
   ]
  },
  {
   "cell_type": "code",
   "execution_count": 18,
   "id": "45eb81c4",
   "metadata": {},
   "outputs": [],
   "source": [
    "E_longitudes = []\n",
    "\n",
    "for m in E_regressions.model:\n",
    "    if E_regressions.sel(model=m).sel(lat=-0.75).sel(lon=222) < 0:\n",
    "        a = E_regressions.sel(model=m)*-1\n",
    "    else: a = E_regressions.sel(model=m)\n",
    "        \n",
    "    location = np.where(a == np.max(a))\n",
    "    lon_index = location[1][0]\n",
    "    longitude = a.isel(lon=lon_index).lon.values\n",
    "    \n",
    "    E_longitudes.append(longitude)"
   ]
  },
  {
   "cell_type": "code",
   "execution_count": 19,
   "id": "674b3724",
   "metadata": {},
   "outputs": [],
   "source": [
    "C_longitudes = []\n",
    "\n",
    "for m in C_regressions.model:\n",
    "    if C_regressions.sel(model=m).sel(lat=-0.75).sel(lon=222) < 0:\n",
    "        a = C_regressions.sel(model=m)*-1\n",
    "    else: a = C_regressions.sel(model=m)\n",
    "        \n",
    "    location = np.where(a == np.max(a))\n",
    "    lon_index = location[1][0]\n",
    "    longitude = a.isel(lon=lon_index).lon.values\n",
    "    \n",
    "    C_longitudes.append(longitude)"
   ]
  },
  {
   "cell_type": "code",
   "execution_count": 21,
   "id": "1e99dfa9",
   "metadata": {},
   "outputs": [],
   "source": [
    "had_location_E = np.where(E_regress_had == np.max(E_regress_had))\n",
    "had_lon_index_E = had_location_E[1][0]\n",
    "had_longitude_E = E_regress_had.isel(lon=had_lon_index_E).lon.values"
   ]
  },
  {
   "cell_type": "code",
   "execution_count": 22,
   "id": "ef3ea3d5",
   "metadata": {},
   "outputs": [],
   "source": [
    "had_location_C = np.where(C_regress_had == np.max(C_regress_had))\n",
    "had_lon_index_C = had_location_C[1][0]\n",
    "had_longitude_C = C_regress_had.isel(lon=had_lon_index_C).lon.values"
   ]
  },
  {
   "cell_type": "code",
   "execution_count": 51,
   "id": "79f228ac",
   "metadata": {},
   "outputs": [],
   "source": [
    "def draw_plot(data, edge_color, fill_color, positions):\n",
    "    bp = ax.boxplot(data, patch_artist=True, positions=positions, widths=0.6, vert=False)\n",
    "\n",
    "    for element in ['boxes', 'whiskers', 'fliers', 'means', 'medians', 'caps']:\n",
    "        plt.setp(bp[element], color=edge_color)\n",
    "\n",
    "    for patch in bp['boxes']:\n",
    "        patch.set(facecolor=fill_color, alpha=0.5) "
   ]
  },
  {
   "cell_type": "code",
   "execution_count": 53,
   "id": "8e37881d",
   "metadata": {},
   "outputs": [
    {
     "data": {
      "image/png": "[encoded data removed]",
      "text/plain": [
       "<Figure size 432x288 with 1 Axes>"
      ]
     },
     "metadata": {
      "needs_background": "light"
     },
     "output_type": "display_data"
    }
   ],
   "source": [
    "fig, ax = plt.subplots()\n",
    "draw_plot([E_longitudes, EP_longitudes, C_longitudes, CP_longitudes], 'black', None, [1,2,3,4])\n",
    "ax.set_yticklabels(['EP (EOF)', 'EP (NINO)', 'CP (EOF)', 'CP (NINO)'])\n",
    "ax.set_xlabel('Longitude')\n",
    "ax.set_title('Location of max variability')\n",
    "# Add dots for hadisst\n",
    "plt.scatter(had_longitude_CP,4, c='black')\n",
    "plt.scatter(had_longitude_C,3, c='black')\n",
    "plt.scatter(had_longitude_EP,2, c='black')\n",
    "plt.scatter(had_longitude_E,1, c='black')\n",
    "#plt.savefig('Location of max variability', bbox_inches='tight', dpi=300)"
   ]
  },
  {
   "cell_type": "code",
   "execution_count": 24,
   "id": "4c522a58",
   "metadata": {},
   "outputs": [],
   "source": [
    "%store -r EP_longitudes"
   ]
  },
  {
   "cell_type": "code",
   "execution_count": 25,
   "id": "bae4c3ac",
   "metadata": {},
   "outputs": [],
   "source": [
    "%store -r CP_longitudes"
   ]
  },
  {
   "cell_type": "code",
   "execution_count": 26,
   "id": "22954913",
   "metadata": {},
   "outputs": [],
   "source": [
    "%store -r had_longitude_EP"
   ]
  },
  {
   "cell_type": "code",
   "execution_count": 27,
   "id": "5bdee2fc",
   "metadata": {},
   "outputs": [],
   "source": [
    "%store -r had_longitude_CP"
   ]
  },
  {
   "cell_type": "code",
   "execution_count": 34,
   "id": "37bc65df",
   "metadata": {},
   "outputs": [
    {
     "data": {
      "text/plain": [
       "array(198.)"
      ]
     },
     "execution_count": 34,
     "metadata": {},
     "output_type": "execute_result"
    }
   ],
   "source": [
    "had_longitude_CP"
   ]
  },
  {
   "cell_type": "code",
   "execution_count": null,
   "id": "dca51b80",
   "metadata": {},
   "outputs": [],
   "source": []
  }
 ],
 "metadata": {
  "kernelspec": {
   "display_name": "Python 3 (ipykernel)",
   "language": "python",
   "name": "python3"
  },
  "language_info": {
   "codemirror_mode": {
    "name": "ipython",
    "version": 3
   },
   "file_extension": ".py",
   "mimetype": "text/x-python",
   "name": "python",
   "nbconvert_exporter": "python",
   "pygments_lexer": "ipython3",
   "version": "3.9.15"
  }
 },
 "nbformat": 4,
 "nbformat_minor": 5
}
