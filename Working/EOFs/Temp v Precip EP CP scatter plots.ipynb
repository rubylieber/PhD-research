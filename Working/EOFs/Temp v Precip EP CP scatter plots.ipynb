{
 "cells": [
  {
   "cell_type": "markdown",
   "id": "5459b63c",
   "metadata": {},
   "source": [
    "### Do models with a better EP also have a better CP?"
   ]
  },
  {
   "cell_type": "code",
   "execution_count": 70,
   "id": "09e0f8a7",
   "metadata": {},
   "outputs": [],
   "source": [
    "import xarray as xr\n",
    "import numpy as np\n",
    "import pandas as pd\n",
    "import sys\n",
    "sys.path.append('/home/563/rl5183/PhD-research/Functions')\n",
    "import functions as func\n",
    "import matplotlib.pyplot as plt\n",
    "import cartopy.crs as ccrs"
   ]
  },
  {
   "cell_type": "markdown",
   "id": "721d5e6a",
   "metadata": {},
   "source": [
    "### Temp NINO"
   ]
  },
  {
   "cell_type": "code",
   "execution_count": 71,
   "id": "595b0384",
   "metadata": {},
   "outputs": [],
   "source": [
    "EP_regressions = xr.open_dataarray('/g/data/w40/rl5183/CMIP6_20_EP_temp_regressions')\n",
    "CP_regressions = xr.open_dataarray('/g/data/w40/rl5183/CMIP6_20_CP_temp_regressions')"
   ]
  },
  {
   "cell_type": "code",
   "execution_count": 72,
   "id": "ebfad500",
   "metadata": {},
   "outputs": [],
   "source": [
    "# Read in the quadratically detrended 20CR temp\n",
    "temp = xr.open_dataarray('/g/data/w40/rl5183/20CR_tmp_ensemble_mean_quad_detrend_1.5x1.5.nc')\n",
    "# Calculate anomalies\n",
    "clim = temp.sel(time=slice('1979-01', '2008-12')).groupby('time.month').mean()\n",
    "anom = (temp.groupby('time.month') - clim)\n",
    "# Take DJF average\n",
    "quarterly_anom = anom.resample(time='QS-DEC').mean('time')\n",
    "djf_anom = quarterly_anom.isel(time=slice(0,None,4))\n",
    "# NINO indices from Hadisst\n",
    "sst = xr.open_dataset('/g/data/w40/rl5183/hadisst.1870_2017_1.5x1.5.nc').sst\n",
    "# Detrend \n",
    "sst_detrend = np.apply_along_axis(func.quad_detrend, 0, sst)\n",
    "sst_dt = xr.DataArray(sst_detrend, coords=sst.coords, attrs=sst.attrs)\n",
    "# Calculate EP and CP index\n",
    "nino3 = func.nino3_index(sst_dt, '1979-01', '2008-12')\n",
    "nino4 = func.nino4_index(sst_dt, '1979-01', '2008-12')\n",
    "# Calculate EP and CP index\n",
    "EP_sst = (nino3 - 0.5*nino4).sel(time=slice('1900-01', '2014-12'))\n",
    "CP_sst = (nino4 - 0.5*nino3).sel(time=slice('1900-01', '2014-12'))\n",
    "# Take DJF average of EP index and CP index\n",
    "quarterly_EP = EP_sst.resample(time='QS-DEC').mean('time')\n",
    "djf_EP = quarterly_EP.isel(time=slice(0,None,4))\n",
    "\n",
    "quarterly_CP = CP_sst.resample(time='QS-DEC').mean('time')\n",
    "djf_CP = quarterly_CP.isel(time=slice(0,None,4))\n",
    "# Regression\n",
    "EP_regress_20CR = func.regress_nino(djf_anom, djf_EP)\n",
    "CP_regress_20CR = func.regress_nino(djf_anom, djf_CP)"
   ]
  },
  {
   "cell_type": "code",
   "execution_count": 73,
   "id": "4c7828d2",
   "metadata": {},
   "outputs": [],
   "source": [
    "pattern_cor_EP = []\n",
    "for m in EP_regressions.model:\n",
    "    pattern_cor_EP.append(func.pattern_cor(EP_regressions.sel(model=m), EP_regress_20CR))\n",
    "pattern_cor_CP = []\n",
    "for m in CP_regressions.model:\n",
    "    pattern_cor_CP.append(func.pattern_cor(CP_regressions.sel(model=m), CP_regress_20CR))\n",
    "# Delete KIOST\n",
    "del pattern_cor_EP[12]\n",
    "del pattern_cor_CP[12]\n",
    "# Convert to array\n",
    "pattern_cor_EP = np.array(pattern_cor_EP)\n",
    "pattern_cor_CP = np.array(pattern_cor_CP)"
   ]
  },
  {
   "cell_type": "markdown",
   "id": "0d733443",
   "metadata": {},
   "source": [
    "### Precip NINO"
   ]
  },
  {
   "cell_type": "code",
   "execution_count": 74,
   "id": "70727f86",
   "metadata": {},
   "outputs": [],
   "source": [
    "EP_regressions = xr.open_dataarray('/g/data/w40/rl5183/CMIP6_20_EP_pr_regressions')\n",
    "CP_regressions = xr.open_dataarray('/g/data/w40/rl5183/CMIP6_20_CP_pr_regressions')"
   ]
  },
  {
   "cell_type": "code",
   "execution_count": 75,
   "id": "e3e8d25e",
   "metadata": {},
   "outputs": [],
   "source": [
    "# Read in the 20CR precip\n",
    "precip = xr.open_dataarray('/g/data/w40/rl5183/20CR_pr_ensemble_mean_1.5x1.5.nc').sel(time=slice('1900-01', '2014-12'))*86400\n",
    "# Calculate anomalies\n",
    "clim = precip.sel(time=slice('1979-01', '2008-12')).groupby('time.month').mean()\n",
    "anom = (precip.groupby('time.month') - clim)\n",
    "# Take DJF average\n",
    "quarterly_anom = anom.resample(time='QS-DEC').mean('time')\n",
    "djf_anom = quarterly_anom.isel(time=slice(0,None,4))\n",
    "# NINO indices from Hadisst\n",
    "sst = xr.open_dataset('/g/data/w40/rl5183/hadisst.1870_2017_1.5x1.5.nc').sst\n",
    "# Detrend \n",
    "sst_detrend = np.apply_along_axis(func.quad_detrend, 0, sst)\n",
    "sst_dt = xr.DataArray(sst_detrend, coords=sst.coords, attrs=sst.attrs)\n",
    "# Calculate EP and CP index\n",
    "nino3 = func.nino3_index(sst_dt, '1979-01', '2008-12')\n",
    "nino4 = func.nino4_index(sst_dt, '1979-01', '2008-12')\n",
    "# Calculate EP and CP index\n",
    "EP_sst = (nino3 - 0.5*nino4).sel(time=slice('1900-01', '2014-12'))\n",
    "CP_sst = (nino4 - 0.5*nino3).sel(time=slice('1900-01', '2014-12'))\n",
    "# Take DJF average of EP index and CP index\n",
    "quarterly_EP = EP_sst.resample(time='QS-DEC').mean('time')\n",
    "djf_EP = quarterly_EP.isel(time=slice(0,None,4))\n",
    "\n",
    "quarterly_CP = CP_sst.resample(time='QS-DEC').mean('time')\n",
    "djf_CP = quarterly_CP.isel(time=slice(0,None,4))\n",
    "# Regression\n",
    "EP_regress_20CR = func.regress_nino(djf_anom, djf_EP)\n",
    "CP_regress_20CR = func.regress_nino(djf_anom, djf_CP)"
   ]
  },
  {
   "cell_type": "code",
   "execution_count": 76,
   "id": "7ba8d08e",
   "metadata": {},
   "outputs": [],
   "source": [
    "pattern_cor_EP_p = []\n",
    "for m in EP_regressions.model:\n",
    "    pattern_cor_EP_p.append(func.pattern_cor(EP_regressions.sel(model=m), EP_regress_20CR))\n",
    "pattern_cor_CP_p = []\n",
    "for m in CP_regressions.model:\n",
    "    pattern_cor_CP_p.append(func.pattern_cor(CP_regressions.sel(model=m), CP_regress_20CR))\n",
    "pattern_cor_EP_p = np.array(pattern_cor_EP_p)\n",
    "pattern_cor_CP_p = np.array(pattern_cor_CP_p)"
   ]
  },
  {
   "cell_type": "markdown",
   "id": "1a6a5fa2",
   "metadata": {},
   "source": [
    "### Plot"
   ]
  },
  {
   "cell_type": "code",
   "execution_count": 77,
   "id": "02b3e510",
   "metadata": {},
   "outputs": [
    {
     "data": {
      "image/png": "[encoded data removed]",
      "text/plain": [
       "<Figure size 432x288 with 1 Axes>"
      ]
     },
     "metadata": {
      "needs_background": "light"
     },
     "output_type": "display_data"
    }
   ],
   "source": [
    "m, b = np. polyfit(pattern_cor_EP, pattern_cor_EP_p, 1)\n",
    "plt.scatter(pattern_cor_EP, pattern_cor_EP_p)\n",
    "plt.plot(pattern_cor_EP, m*pattern_cor_EP + b)\n",
    "plt.text(0.4, 0.4, f'r\\N{SUPERSCRIPT TWO}=0.44')\n",
    "plt.title('EP NINO')\n",
    "plt.xlabel('TEMP')\n",
    "plt.ylabel('PRECIP')\n",
    "plt.savefig('TEMP_v_PRECIP_NINO_EP', bbox_inches='tight', dpi=300)"
   ]
  },
  {
   "cell_type": "code",
   "execution_count": 78,
   "id": "f2e2b0b2",
   "metadata": {},
   "outputs": [
    {
     "name": "stdout",
     "output_type": "stream",
     "text": [
      "0.4407814938338049\n"
     ]
    }
   ],
   "source": [
    "corr_matrix = np.corrcoef(pattern_cor_EP, pattern_cor_EP_p)\n",
    "corr = corr_matrix[0,1]\n",
    "r_sq = corr**2\n",
    "print(r_sq)"
   ]
  },
  {
   "cell_type": "code",
   "execution_count": 79,
   "id": "e0b00cb8",
   "metadata": {},
   "outputs": [
    {
     "data": {
      "image/png": "[encoded data removed]",
      "text/plain": [
       "<Figure size 432x288 with 1 Axes>"
      ]
     },
     "metadata": {
      "needs_background": "light"
     },
     "output_type": "display_data"
    }
   ],
   "source": [
    "m, b = np. polyfit(pattern_cor_CP, pattern_cor_CP_p, 1)\n",
    "plt.scatter(pattern_cor_CP, pattern_cor_CP_p)\n",
    "plt.plot(pattern_cor_CP, m*pattern_cor_CP + b)\n",
    "plt.text(0.3, 0.4, f'r\\N{SUPERSCRIPT TWO}=0.66')\n",
    "plt.title('CP NINO')\n",
    "plt.xlabel('TEMP')\n",
    "plt.ylabel('PRECIP')\n",
    "plt.savefig('TEMP_v_PRECIP_NINO_CP', bbox_inches='tight', dpi=300)"
   ]
  },
  {
   "cell_type": "code",
   "execution_count": 80,
   "id": "36db27c5",
   "metadata": {},
   "outputs": [
    {
     "name": "stdout",
     "output_type": "stream",
     "text": [
      "0.663620881933959\n"
     ]
    }
   ],
   "source": [
    "corr_matrix = np.corrcoef(pattern_cor_CP, pattern_cor_CP_p)\n",
    "corr = corr_matrix[0,1]\n",
    "r_sq = corr**2\n",
    "print(r_sq)"
   ]
  },
  {
   "cell_type": "markdown",
   "id": "e72eb2df",
   "metadata": {},
   "source": [
    "### Temp EOF"
   ]
  },
  {
   "cell_type": "code",
   "execution_count": 81,
   "id": "b398ba7b",
   "metadata": {},
   "outputs": [],
   "source": [
    "E_regressions = xr.open_dataarray('/g/data/w40/rl5183/CMIP6_20_E_temp_regressions')\n",
    "C_regressions = xr.open_dataarray('/g/data/w40/rl5183/CMIP6_20_C_temp_regressions')"
   ]
  },
  {
   "cell_type": "code",
   "execution_count": 82,
   "id": "542f295e",
   "metadata": {},
   "outputs": [],
   "source": [
    "E_regressions_new = []\n",
    "for m in E_regressions.model:\n",
    "    if E_regressions.sel(model=m).sel(lat=-0.75).sel(lon=222) < 0:\n",
    "        E_regressions_new.append(E_regressions.sel(model=m)*-1)\n",
    "    else: E_regressions_new.append(E_regressions.sel(model=m))\n",
    "E_regressions_new = xr.concat(E_regressions_new, dim='model')"
   ]
  },
  {
   "cell_type": "code",
   "execution_count": 83,
   "id": "77358ad0",
   "metadata": {},
   "outputs": [],
   "source": [
    "C_regressions_new = []\n",
    "for m in C_regressions.model:\n",
    "    if C_regressions.sel(model=m).sel(lat=-0.75).sel(lon=222) < 0:\n",
    "        C_regressions_new.append(C_regressions.sel(model=m)*-1)\n",
    "    else: C_regressions_new.append(C_regressions.sel(model=m))\n",
    "C_regressions_new = xr.concat(C_regressions_new, dim='model')"
   ]
  },
  {
   "cell_type": "code",
   "execution_count": 84,
   "id": "c5313856",
   "metadata": {},
   "outputs": [],
   "source": [
    "# Read in the quadratically detrended 20CR temp\n",
    "temp = xr.open_dataarray('/g/data/w40/rl5183/20CR_tmp_ensemble_mean_quad_detrend_1.5x1.5.nc')\n",
    "# Calculate anomalies\n",
    "clim = temp.sel(time=slice('1979-01', '2008-12')).groupby('time.month').mean()\n",
    "anom = (temp.groupby('time.month') - clim)\n",
    "# Take DJF average\n",
    "quarterly_anom = anom.resample(time='QS-DEC').mean('time')\n",
    "djf_anom = quarterly_anom.isel(time=slice(0,None,4))\n",
    "# Open HadISST \n",
    "sst_ds = xr.open_dataset('/g/data/w40/rl5183/hadisst.1870_2017_1.5x1.5.nc')\n",
    "sst = sst_ds.sst.sel(lat=slice(-15,15)).sel(lon=slice(140,280)).sel(time=slice('1900-01', '2014-12'))\n",
    "# Quadtratically Detrend \n",
    "sst_detrend = np.apply_along_axis(func.quad_detrend, 0, sst)\n",
    "sst_dt = xr.DataArray(sst_detrend, coords=sst.coords, attrs=sst.attrs)\n",
    "# Calculate anomalies \n",
    "clim = sst_dt.sel(time=slice('1979-01', '2008-12')).groupby('time.month').mean()\n",
    "anom = sst_dt.groupby('time.month') - clim\n",
    "# EOFs\n",
    "had_eof, had_pcs, had_var = func.eof_and_pcs(anom, 3)\n",
    "# Scale PCs to have a standrd deviation of 1 \n",
    "had_pc1 = (had_pcs.sel(mode=1)/had_pcs.sel(mode=1).std())*-1\n",
    "had_pc2 = had_pcs.sel(mode=2)/had_pcs.sel(mode=2).std()\n",
    "# Calculate E-index and C-index\n",
    "had_E = (had_pc1 - had_pc2)/np.sqrt(2)\n",
    "had_C = (had_pc1 + had_pc2)/np.sqrt(2)\n",
    "# Take DJF average of E-index and C-index\n",
    "had_quarterly_E = had_E.resample(time='QS-DEC').mean('time')\n",
    "had_djf_E = had_quarterly_E.isel(time=slice(0,None,4))\n",
    "\n",
    "had_quarterly_C = had_C.resample(time='QS-DEC').mean('time')\n",
    "had_djf_C = had_quarterly_C.isel(time=slice(0,None,4))\n",
    "\n",
    "# Regression\n",
    "EP_regress_20CR = func.regress_nino(djf_anom, had_djf_E)\n",
    "CP_regress_20CR = func.regress_nino(djf_anom, had_djf_C)"
   ]
  },
  {
   "cell_type": "code",
   "execution_count": 85,
   "id": "221edb11",
   "metadata": {},
   "outputs": [],
   "source": [
    "pattern_cor_EP = []\n",
    "for m in E_regressions_new.model:\n",
    "    pattern_cor_EP.append(func.pattern_cor(E_regressions_new.sel(model=m), EP_regress_20CR))\n",
    "pattern_cor_CP = []\n",
    "for m in C_regressions_new.model:\n",
    "    pattern_cor_CP.append(func.pattern_cor(C_regressions_new.sel(model=m), CP_regress_20CR))\n",
    "# Delete KIOST\n",
    "del pattern_cor_EP[12]\n",
    "del pattern_cor_CP[12]\n",
    "# Convert to array\n",
    "pattern_cor_EP = np.array(pattern_cor_EP)\n",
    "pattern_cor_CP = np.array(pattern_cor_CP)"
   ]
  },
  {
   "cell_type": "markdown",
   "id": "9be3186f",
   "metadata": {},
   "source": [
    "### Precip EOF"
   ]
  },
  {
   "cell_type": "code",
   "execution_count": 86,
   "id": "f864345e",
   "metadata": {},
   "outputs": [],
   "source": [
    "E_regressions = xr.open_dataarray('/g/data/w40/rl5183/CMIP6_20_E_pr_regressions')\n",
    "C_regressions = xr.open_dataarray('/g/data/w40/rl5183/CMIP6_20_C_pr_regressions')"
   ]
  },
  {
   "cell_type": "code",
   "execution_count": 87,
   "id": "f575c110",
   "metadata": {},
   "outputs": [],
   "source": [
    "E_regressions_new = []\n",
    "for m in E_regressions.model:\n",
    "    if m == 'ACCESS-CM2' or m == 'BCC-CSM2-MR' or m == 'GFDL-ESM4' or m == 'INM-CM4-8' or m == 'INM-CM5-0' or m == 'KACE-1-0-G' or m == 'MIROC6' or m == 'MPI-ESM1-2-HR' or m == 'MRI-ESM2-0' or m == 'NorESM2-LM' or m == 'NorESM2-MM':\n",
    "        E_regressions_new.append(E_regressions.sel(model=m)*-1)\n",
    "    else: E_regressions_new.append(E_regressions.sel(model=m))\n",
    "E_regressions_new = xr.concat(E_regressions_new, dim='model')"
   ]
  },
  {
   "cell_type": "code",
   "execution_count": 88,
   "id": "4f3c3b32",
   "metadata": {},
   "outputs": [],
   "source": [
    "C_regressions_new = []\n",
    "for m in C_regressions.model:\n",
    "    if m == 'ACCESS-CM2' or m == 'BCC-CSM2-MR' or m == 'GFDL-ESM4' or m == 'INM-CM4-8' or m == 'INM-CM5-0' or m == 'KACE-1-0-G' or m == 'MIROC6' or m == 'MPI-ESM1-2-HR' or m == 'MRI-ESM2-0' or m == 'NorESM2-LM' or m == 'NorESM2-MM':\n",
    "        C_regressions_new.append(C_regressions.sel(model=m)*-1)\n",
    "    else: C_regressions_new.append(C_regressions.sel(model=m))\n",
    "C_regressions_new = xr.concat(C_regressions_new, dim='model')"
   ]
  },
  {
   "cell_type": "code",
   "execution_count": 89,
   "id": "15fb623b",
   "metadata": {},
   "outputs": [],
   "source": [
    "# Read in the 20CR precip\n",
    "precip = xr.open_dataarray('/g/data/w40/rl5183/20CR_pr_ensemble_mean_1.5x1.5.nc').sel(time=slice('1900-01', '2014-12'))*86400\n",
    "# Calculate anomalies\n",
    "clim = precip.sel(time=slice('1979-01', '2008-12')).groupby('time.month').mean()\n",
    "anom = (precip.groupby('time.month') - clim)\n",
    "# Take DJF average\n",
    "quarterly_anom = anom.resample(time='QS-DEC').mean('time')\n",
    "djf_anom = quarterly_anom.isel(time=slice(0,None,4))\n",
    "# Open HadISST \n",
    "sst_ds = xr.open_dataset('/g/data/w40/rl5183/hadisst.1870_2017_1.5x1.5.nc')\n",
    "sst = sst_ds.sst.sel(lat=slice(-15,15)).sel(lon=slice(140,280)).sel(time=slice('1900-01', '2014-12'))\n",
    "# Quadtratically Detrend \n",
    "sst_detrend = np.apply_along_axis(func.quad_detrend, 0, sst)\n",
    "sst_dt = xr.DataArray(sst_detrend, coords=sst.coords, attrs=sst.attrs)\n",
    "# Calculate anomalies \n",
    "clim = sst_dt.sel(time=slice('1979-01', '2008-12')).groupby('time.month').mean()\n",
    "anom = sst_dt.groupby('time.month') - clim\n",
    "# EOFs\n",
    "had_eof, had_pcs, had_var = func.eof_and_pcs(anom, 3)\n",
    "# Scale PCs to have a standrd deviation of 1 \n",
    "had_pc1 = (had_pcs.sel(mode=1)/had_pcs.sel(mode=1).std())*-1\n",
    "had_pc2 = had_pcs.sel(mode=2)/had_pcs.sel(mode=2).std()\n",
    "# Calculate E-index and C-index\n",
    "had_E = (had_pc1 - had_pc2)/np.sqrt(2)\n",
    "had_C = (had_pc1 + had_pc2)/np.sqrt(2)\n",
    "# Take DJF average of E-index and C-index\n",
    "had_quarterly_E = had_E.resample(time='QS-DEC').mean('time')\n",
    "had_djf_E = had_quarterly_E.isel(time=slice(0,None,4))\n",
    "\n",
    "had_quarterly_C = had_C.resample(time='QS-DEC').mean('time')\n",
    "had_djf_C = had_quarterly_C.isel(time=slice(0,None,4))\n",
    "\n",
    "# Regression\n",
    "EP_regress_20CR = func.regress_nino(djf_anom, had_djf_E)\n",
    "CP_regress_20CR = func.regress_nino(djf_anom, had_djf_C)"
   ]
  },
  {
   "cell_type": "code",
   "execution_count": 90,
   "id": "45567cc9",
   "metadata": {},
   "outputs": [],
   "source": [
    "pattern_cor_EP_p = []\n",
    "for m in E_regressions_new.model:\n",
    "    pattern_cor_EP_p.append(func.pattern_cor(E_regressions_new.sel(model=m), EP_regress_20CR))\n",
    "pattern_cor_CP_p = []\n",
    "for m in C_regressions_new.model:\n",
    "    pattern_cor_CP_p.append(func.pattern_cor(C_regressions_new.sel(model=m), CP_regress_20CR))\n",
    "pattern_cor_EP_p = np.array(pattern_cor_EP_p)\n",
    "pattern_cor_CP_p = np.array(pattern_cor_CP_p)"
   ]
  },
  {
   "cell_type": "markdown",
   "id": "9d1c1eeb",
   "metadata": {},
   "source": [
    "### Plot"
   ]
  },
  {
   "cell_type": "code",
   "execution_count": 91,
   "id": "226a1d1f",
   "metadata": {},
   "outputs": [
    {
     "data": {
      "image/png": "[encoded data removed]",
      "text/plain": [
       "<Figure size 432x288 with 1 Axes>"
      ]
     },
     "metadata": {
      "needs_background": "light"
     },
     "output_type": "display_data"
    }
   ],
   "source": [
    "m, b = np. polyfit(pattern_cor_EP, pattern_cor_EP_p, 1)\n",
    "plt.scatter(pattern_cor_EP, pattern_cor_EP_p)\n",
    "plt.plot(pattern_cor_EP, m*pattern_cor_EP + b)\n",
    "plt.text(0.25, 0.4, f'r\\N{SUPERSCRIPT TWO}=0.54')\n",
    "plt.title('EP EOF')\n",
    "plt.xlabel('TEMP')\n",
    "plt.ylabel('PRECIP')\n",
    "plt.savefig('TEMP_v_PRECIP_EOF_EP', bbox_inches='tight', dpi=300)"
   ]
  },
  {
   "cell_type": "code",
   "execution_count": 92,
   "id": "bbdd3b6a",
   "metadata": {},
   "outputs": [
    {
     "name": "stdout",
     "output_type": "stream",
     "text": [
      "0.5407726509127887\n"
     ]
    }
   ],
   "source": [
    "corr_matrix = np.corrcoef(pattern_cor_EP, pattern_cor_EP_p)\n",
    "corr = corr_matrix[0,1]\n",
    "r_sq = corr**2\n",
    "print(r_sq)"
   ]
  },
  {
   "cell_type": "code",
   "execution_count": 93,
   "id": "2fe6c554",
   "metadata": {},
   "outputs": [
    {
     "data": {
      "image/png": "[encoded data removed]",
      "text/plain": [
       "<Figure size 432x288 with 1 Axes>"
      ]
     },
     "metadata": {
      "needs_background": "light"
     },
     "output_type": "display_data"
    }
   ],
   "source": [
    "m, b = np. polyfit(pattern_cor_CP, pattern_cor_CP_p, 1)\n",
    "plt.scatter(pattern_cor_CP, pattern_cor_CP_p)\n",
    "plt.plot(pattern_cor_CP, m*pattern_cor_CP + b)\n",
    "plt.text(0.5, 0.4, f'r\\N{SUPERSCRIPT TWO}=0.38')\n",
    "plt.title('CP EOF')\n",
    "plt.xlabel('TEMP')\n",
    "plt.ylabel('PRECIP')\n",
    "plt.savefig('TEMP_v_PRECIP_EOF_CP', bbox_inches='tight', dpi=300)"
   ]
  },
  {
   "cell_type": "code",
   "execution_count": 94,
   "id": "42cf35cf",
   "metadata": {},
   "outputs": [
    {
     "name": "stdout",
     "output_type": "stream",
     "text": [
      "0.3782441213222629\n"
     ]
    }
   ],
   "source": [
    "corr_matrix = np.corrcoef(pattern_cor_CP, pattern_cor_CP_p)\n",
    "corr = corr_matrix[0,1]\n",
    "r_sq = corr**2\n",
    "print(r_sq)"
   ]
  },
  {
   "cell_type": "code",
   "execution_count": null,
   "id": "a1393cfb",
   "metadata": {},
   "outputs": [],
   "source": []
  }
 ],
 "metadata": {
  "kernelspec": {
   "display_name": "Python 3 (ipykernel)",
   "language": "python",
   "name": "python3"
  },
  "language_info": {
   "codemirror_mode": {
    "name": "ipython",
    "version": 3
   },
   "file_extension": ".py",
   "mimetype": "text/x-python",
   "name": "python",
   "nbconvert_exporter": "python",
   "pygments_lexer": "ipython3",
   "version": "3.9.13"
  }
 },
 "nbformat": 4,
 "nbformat_minor": 5
}
