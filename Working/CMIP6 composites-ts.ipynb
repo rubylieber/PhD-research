{
 "cells": [
  {
   "cell_type": "markdown",
   "id": "894d83b8",
   "metadata": {},
   "source": [
    "1. Read in CMIP6 model data \n",
    "2. Read in ETCCDI data \n",
    "3. Make sure on same grid, time etc. \n",
    "4. Calculate composites for variables (take multi model mean at end)\n",
    "5. Sign comparison between mean and extreme for each variable (for mmm)"
   ]
  },
  {
   "cell_type": "code",
   "execution_count": 1,
   "id": "f0154a61",
   "metadata": {},
   "outputs": [
    {
     "data": {
      "text/plain": [
       "<dask.config.set at 0x7ff189625c40>"
      ]
     },
     "execution_count": 1,
     "metadata": {},
     "output_type": "execute_result"
    }
   ],
   "source": [
    "# 0. Imports \n",
    "import xarray as xr\n",
    "import numpy as np\n",
    "import sys\n",
    "sys.path.append('/home/563/rl5183/PhD-research/Functions')\n",
    "import functions as func\n",
    "import matplotlib.pyplot as plt\n",
    "import cartopy.crs as ccrs\n",
    "\n",
    "import dask\n",
    "dask.config.set({'array.slicing.split_large_chunks': False})"
   ]
  },
  {
   "cell_type": "code",
   "execution_count": 2,
   "id": "7bc68fae",
   "metadata": {},
   "outputs": [],
   "source": [
    "# 1. Read in CMIP6 model data \n",
    "data = xr.open_dataarray('/g/data/w40/rl5183/CMIP6_20_ts_quad_detrend_1900_2015.nc')"
   ]
  },
  {
   "cell_type": "code",
   "execution_count": 3,
   "id": "861510db",
   "metadata": {},
   "outputs": [],
   "source": [
    "# Calculate Nino3.4 index\n",
    "nino34_list = []\n",
    "for m in data.model:\n",
    "    nino34_list.append(func.nino34_index(data.sel(model=m), '1950-01', '1979-12'))\n",
    "nino34 = xr.DataArray(nino34_list, dims=['model', 'time'], coords=[data.model, data.time])"
   ]
  },
  {
   "cell_type": "code",
   "execution_count": 4,
   "id": "20e64cc4",
   "metadata": {},
   "outputs": [
    {
     "name": "stdout",
     "output_type": "stream",
     "text": [
      "CPU times: user 15min 38s, sys: 5min 34s, total: 21min 13s\n",
      "Wall time: 44min 3s\n"
     ]
    }
   ],
   "source": [
    "%%time\n",
    "elnino_list_ts = []\n",
    "lanina_list_ts = []\n",
    "for m in nino34.model:\n",
    "    el, la = func.sst_comp(nino34.sel(model=m), data.sel(model=m), 'DJF', 0.5, 6)\n",
    "    elnino_list_ts.append(el)\n",
    "    lanina_list_ts.append(la)\n",
    "    \n",
    "elnino_ts = xr.concat(elnino_list_ts, dim='model').chunk('auto')\n",
    "lanina_ts = xr.concat(lanina_list_ts, dim='model').chunk('auto')"
   ]
  },
  {
   "cell_type": "code",
   "execution_count": 5,
   "id": "2d549d67",
   "metadata": {},
   "outputs": [],
   "source": [
    "elnino_ts.to_netcdf('elnino_comp_ts_cmip6_20.nc')\n",
    "lanina_ts.to_netcdf('lanina_comp_ts_cmip6_20.nc')"
   ]
  },
  {
   "cell_type": "code",
   "execution_count": 6,
   "id": "7a02d7ed",
   "metadata": {},
   "outputs": [],
   "source": [
    "elnino_ts = xr.open_dataarray('elnino_comp_ts_cmip6_20.nc')\n",
    "lanina_ts = xr.open_dataarray('lanina_comp_ts_cmip6_20.nc')"
   ]
  },
  {
   "cell_type": "code",
   "execution_count": null,
   "id": "748c216f",
   "metadata": {},
   "outputs": [],
   "source": []
  }
 ],
 "metadata": {
  "kernelspec": {
   "display_name": "Python 3 (ipykernel)",
   "language": "python",
   "name": "python3"
  },
  "language_info": {
   "codemirror_mode": {
    "name": "ipython",
    "version": 3
   },
   "file_extension": ".py",
   "mimetype": "text/x-python",
   "name": "python",
   "nbconvert_exporter": "python",
   "pygments_lexer": "ipython3",
   "version": "3.9.15"
  }
 },
 "nbformat": 4,
 "nbformat_minor": 5
}
