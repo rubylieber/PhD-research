{
 "cells": [
  {
   "cell_type": "code",
   "execution_count": null,
   "id": "5d244fb4",
   "metadata": {},
   "outputs": [],
   "source": [
    "import xarray as xr\n",
    "import numpy as np\n",
    "import sys\n",
    "sys.path.append('/home/563/rl5183/PhD-research/Functions')\n",
    "import functions as func\n",
    "import matplotlib.pyplot as plt\n",
    "import cartopy.crs as ccrs\n",
    "\n",
    "import dask\n",
    "dask.config.set({'array.slicing.split_large_chunks': False})"
   ]
  },
  {
   "cell_type": "code",
   "execution_count": null,
   "id": "3db51078",
   "metadata": {},
   "outputs": [],
   "source": [
    "# Generate dictionary of all model names and file paths \n",
    "import os\n",
    "import pandas as pd\n",
    "    \n",
    "var = 'txx'\n",
    "ensemble = 'r1i1p1f1'\n",
    "\n",
    "institution_dir = '/g/data/ia39/aus-ref-clim-data-nci/cmip6-etccdi/data/v1-0/etccdi/base_independent/mon/historical'\n",
    "\n",
    "all_models = os.listdir(institution_dir)\n",
    "\n",
    "var_files = []\n",
    "model_names = []\n",
    "\n",
    "for model in all_models:\n",
    "    all_files = os.listdir(f'{institution_dir}/{model}')\n",
    "    for file in all_files:\n",
    "        if var in file and ensemble in file:\n",
    "            var_files.append(f'{model}/{file}')\n",
    "            model_names.append(model)\n",
    "\n",
    "paths = [f'/g/data/ia39/aus-ref-clim-data-nci/cmip6-etccdi/data/v1-0/etccdi/base_independent/mon/historical/{f}'\n",
    "             for f in var_files]\n",
    "\n",
    "dictionary = {model_names[i]: paths[i] for i in range(len(model_names))}"
   ]
  },
  {
   "cell_type": "code",
   "execution_count": null,
   "id": "cfdab2e0",
   "metadata": {},
   "outputs": [],
   "source": [
    "# Read in each file and save to my directy for regridding \n",
    "names = []\n",
    "\n",
    "for name, path in dictionary.items():\n",
    "    try:\n",
    "        d = xr.open_mfdataset(path, combine='by_coords', chunks={'time':-1, 'lat':110, 'lon':110}).txxETCCDI\n",
    "        if len(d['time'])!=1980:\n",
    "            d = d.sel(time=slice('1850-01', '2014-12'))\n",
    "        del d['time']\n",
    "        if hasattr(d, 'height'):\n",
    "            del d['height']\n",
    "        time_month = pd.date_range(start='1850-01',end = '2015-01', freq ='M')\n",
    "        d.coords['time'] = time_month\n",
    "        d.to_netcdf(f'/g/data/w40/rl5183/CMIP6_ETCCDI/{name}_txx')\n",
    "        print(f'Model {name} saved')\n",
    "        names.append(name)\n",
    "    except OSError:\n",
    "        # No files read, move on to the next\n",
    "        continue "
   ]
  }
 ],
 "metadata": {
  "kernelspec": {
   "display_name": "Python 3 (ipykernel)",
   "language": "python",
   "name": "python3"
  },
  "language_info": {
   "codemirror_mode": {
    "name": "ipython",
    "version": 3
   },
   "file_extension": ".py",
   "mimetype": "text/x-python",
   "name": "python",
   "nbconvert_exporter": "python",
   "pygments_lexer": "ipython3",
   "version": "3.9.15"
  }
 },
 "nbformat": 4,
 "nbformat_minor": 5
}
