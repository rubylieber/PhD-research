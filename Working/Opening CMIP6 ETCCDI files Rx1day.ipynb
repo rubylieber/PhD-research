{
 "cells": [
  {
   "cell_type": "code",
   "execution_count": 3,
   "id": "5d244fb4",
   "metadata": {},
   "outputs": [
    {
     "data": {
      "text/plain": [
       "<dask.config.set at 0x7f457baba490>"
      ]
     },
     "execution_count": 3,
     "metadata": {},
     "output_type": "execute_result"
    }
   ],
   "source": [
    "import xarray as xr\n",
    "import numpy as np\n",
    "import sys\n",
    "sys.path.append('/home/563/rl5183/PhD-research/Functions')\n",
    "import functions as func\n",
    "import matplotlib.pyplot as plt\n",
    "import cartopy.crs as ccrs\n",
    "\n",
    "import dask\n",
    "dask.config.set({'array.slicing.split_large_chunks': False})"
   ]
  },
  {
   "cell_type": "code",
   "execution_count": 7,
   "id": "3db51078",
   "metadata": {},
   "outputs": [],
   "source": [
    "# Generate dictionary of all model names and file paths \n",
    "import os\n",
    "import pandas as pd\n",
    "    \n",
    "var = 'rx1day'\n",
    "ensemble = 'r1i1p1f1'\n",
    "\n",
    "institution_dir = '/g/data/ia39/aus-ref-clim-data-nci/cmip6-etccdi/data/v1-0/etccdi/base_independent/mon/historical'\n",
    "\n",
    "all_models = os.listdir(institution_dir)\n",
    "\n",
    "var_files = []\n",
    "model_names = []\n",
    "\n",
    "for model in all_models:\n",
    "    all_files = os.listdir(f'{institution_dir}/{model}')\n",
    "    for file in all_files:\n",
    "        if var in file and ensemble in file:\n",
    "            var_files.append(f'{model}/{file}')\n",
    "            model_names.append(model)\n",
    "\n",
    "paths = [f'/g/data/ia39/aus-ref-clim-data-nci/cmip6-etccdi/data/v1-0/etccdi/base_independent/mon/historical/{f}'\n",
    "             for f in var_files]\n",
    "\n",
    "dictionary = {model_names[i]: paths[i] for i in range(len(model_names))}"
   ]
  },
  {
   "cell_type": "code",
   "execution_count": 8,
   "id": "cfdab2e0",
   "metadata": {},
   "outputs": [
    {
     "name": "stdout",
     "output_type": "stream",
     "text": [
      "Model MPI-ESM1-2-HR saved\n",
      "Model MRI-ESM2-0 saved\n",
      "Model INM-CM5-0 saved\n",
      "Model FGOALS-g3 saved\n",
      "Model INM-CM4-8 saved\n",
      "Model GFDL-CM4 saved\n",
      "Model EC-Earth3 saved\n",
      "Model GFDL-ESM4 saved\n",
      "Model KACE-1-0-G saved\n",
      "Model MPI-ESM1-2-LR saved\n",
      "Model NESM3 saved\n",
      "Model NorESM2-LM saved\n",
      "Model EC-Earth3-Veg saved\n",
      "Model MIROC6 saved\n",
      "Model ACCESS-CM2 saved\n",
      "Model NorESM2-MM saved\n",
      "Model BCC-CSM2-MR saved\n",
      "Model ACCESS-ESM1-5 saved\n",
      "Model KIOST-ESM saved\n",
      "Model CanESM5 saved\n"
     ]
    }
   ],
   "source": [
    "# Read in each file and save to my directy for regridding \n",
    "names = []\n",
    "\n",
    "for name, path in dictionary.items():\n",
    "    try:\n",
    "        d = xr.open_mfdataset(path, combine='by_coords', chunks={'time':-1, 'lat':110, 'lon':110}).rx1dayETCCDI\n",
    "        if len(d['time'])!=1980:\n",
    "            d = d.sel(time=slice('1850-01', '2014-12'))\n",
    "        del d['time']\n",
    "        if hasattr(d, 'height'):\n",
    "            del d['height']\n",
    "        time_month = pd.date_range(start='1850-01',end = '2015-01', freq ='M')\n",
    "        d.coords['time'] = time_month\n",
    "        d.to_netcdf(f'/g/data/w40/rl5183/CMIP6_ETCCDI_rx1/{name}_rx1')\n",
    "        print(f'Model {name} saved')\n",
    "        names.append(name)\n",
    "    except OSError:\n",
    "        # No files read, move on to the next\n",
    "        continue "
   ]
  },
  {
   "cell_type": "code",
   "execution_count": null,
   "id": "693bd33f",
   "metadata": {},
   "outputs": [],
   "source": []
  }
 ],
 "metadata": {
  "kernelspec": {
   "display_name": "Python 3 (ipykernel)",
   "language": "python",
   "name": "python3"
  },
  "language_info": {
   "codemirror_mode": {
    "name": "ipython",
    "version": 3
   },
   "file_extension": ".py",
   "mimetype": "text/x-python",
   "name": "python",
   "nbconvert_exporter": "python",
   "pygments_lexer": "ipython3",
   "version": "3.9.15"
  }
 },
 "nbformat": 4,
 "nbformat_minor": 5
}
