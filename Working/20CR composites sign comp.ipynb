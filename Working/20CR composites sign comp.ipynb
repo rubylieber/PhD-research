{
 "cells": [
  {
   "cell_type": "code",
   "execution_count": 1,
   "id": "79d0b94a",
   "metadata": {},
   "outputs": [
    {
     "name": "stderr",
     "output_type": "stream",
     "text": [
      "Matplotlib is building the font cache; this may take a moment.\n"
     ]
    },
    {
     "data": {
      "text/plain": [
       "<dask.config.set at 0x7fad944bf910>"
      ]
     },
     "execution_count": 1,
     "metadata": {},
     "output_type": "execute_result"
    }
   ],
   "source": [
    "import xarray as xr\n",
    "import numpy as np\n",
    "import sys\n",
    "sys.path.append('/home/563/rl5183/PhD-research/Functions')\n",
    "import functions as func\n",
    "import matplotlib.pyplot as plt\n",
    "import cartopy.crs as ccrs\n",
    "from cartopy.mpl.gridliner import LONGITUDE_FORMATTER, LATITUDE_FORMATTER\n",
    "import matplotlib.gridspec as gridspec\n",
    "import matplotlib as mpl\n",
    "import dask\n",
    "dask.config.set({'array.slicing.split_large_chunks': False})"
   ]
  },
  {
   "cell_type": "code",
   "execution_count": 5,
   "id": "91fe5a3b",
   "metadata": {},
   "outputs": [],
   "source": [
    "anom = xr.open_dataarray('/g/data/w40/rl5183/progress_files/anom.nc', chunks={'member':1}).sel(time=slice('1900-01', '2014-12'))"
   ]
  },
  {
   "cell_type": "code",
   "execution_count": 16,
   "id": "4cb7ac2a",
   "metadata": {},
   "outputs": [],
   "source": [
    "# NINO34 with Hadisst\n",
    "hadisst_ds = xr.open_dataset('/g/data/ob22/jxb548/OBSDATA/hadisstv1.1870_2017.nc')\n",
    "sst_data = hadisst_ds.sst\n",
    "# Detrend \n",
    "sst_data_detrend = np.apply_along_axis(func.detrend_2step, 0, sst_data)\n",
    "sst_detrended = xr.DataArray(sst_data_detrend, coords=sst_data.coords, attrs=sst_data.attrs)\n",
    "# Calculate index \n",
    "nino34_region = sst_detrended.sel(latitude=slice(5,-5), longitude=slice(-170,-120))\n",
    "climatology = nino34_region.sel(time=slice('1950-01','1979-12')).groupby('time.month').mean()\n",
    "monthly_anomalies = (nino34_region.groupby('time.month')-climatology).mean(dim=['latitude','longitude'])\n",
    "monthly_anomalies_rolling = monthly_anomalies.rolling(time=5).mean()\n",
    "sst_std = nino34_region.sel(time=slice('1950-01','1979-12')).std()\n",
    "nino34_index = monthly_anomalies_rolling/sst_std\n",
    "nino34 = nino34_index.sel(time=slice('1900-01', '2014-12'))"
   ]
  },
  {
   "cell_type": "code",
   "execution_count": null,
   "id": "b04f340e",
   "metadata": {},
   "outputs": [
    {
     "name": "stdout",
     "output_type": "stream",
     "text": [
      "+1 member done\n",
      "+1 member done\n",
      "+1 member done\n",
      "+1 member done\n",
      "+1 member done\n",
      "+1 member done\n",
      "+1 member done\n",
      "+1 member done\n",
      "+1 member done\n",
      "+1 member done\n",
      "+1 member done\n",
      "+1 member done\n",
      "+1 member done\n",
      "+1 member done\n",
      "+1 member done\n",
      "+1 member done\n",
      "+1 member done\n",
      "+1 member done\n",
      "+1 member done\n",
      "+1 member done\n",
      "+1 member done\n",
      "+1 member done\n",
      "+1 member done\n",
      "+1 member done\n",
      "+1 member done\n",
      "+1 member done\n",
      "+1 member done\n",
      "+1 member done\n",
      "+1 member done\n",
      "+1 member done\n",
      "+1 member done\n",
      "+1 member done\n",
      "+1 member done\n",
      "+1 member done\n",
      "+1 member done\n",
      "+1 member done\n",
      "+1 member done\n",
      "+1 member done\n",
      "+1 member done\n",
      "+1 member done\n",
      "+1 member done\n",
      "+1 member done\n",
      "+1 member done\n",
      "+1 member done\n",
      "+1 member done\n",
      "+1 member done\n",
      "+1 member done\n",
      "+1 member done\n",
      "+1 member done\n",
      "+1 member done\n",
      "+1 member done\n",
      "+1 member done\n",
      "+1 member done\n",
      "+1 member done\n",
      "+1 member done\n"
     ]
    }
   ],
   "source": [
    "elnino_list_ts = []\n",
    "lanina_list_ts = []\n",
    "for m in anom.member:\n",
    "    el, la = func.sst_comp(nino34, anom.sel(member=m), 'DJF', 0.5, 6)\n",
    "    elnino_list_ts.append(el)\n",
    "    lanina_list_ts.append(la)\n",
    "    print('+1 member done')\n",
    "    \n",
    "elnino_ts = xr.concat(elnino_list_ts, dim='model').chunk('auto')\n",
    "lanina_ts = xr.concat(lanina_list_ts, dim='model').chunk('auto')"
   ]
  },
  {
   "cell_type": "code",
   "execution_count": null,
   "id": "6138c3ed",
   "metadata": {},
   "outputs": [],
   "source": []
  }
 ],
 "metadata": {
  "kernelspec": {
   "display_name": "Python 3 (ipykernel)",
   "language": "python",
   "name": "python3"
  },
  "language_info": {
   "codemirror_mode": {
    "name": "ipython",
    "version": 3
   },
   "file_extension": ".py",
   "mimetype": "text/x-python",
   "name": "python",
   "nbconvert_exporter": "python",
   "pygments_lexer": "ipython3",
   "version": "3.9.15"
  }
 },
 "nbformat": 4,
 "nbformat_minor": 5
}
